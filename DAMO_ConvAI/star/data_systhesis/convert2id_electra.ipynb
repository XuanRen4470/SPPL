{
 "cells": [
  {
   "cell_type": "code",
   "execution_count": 5,
   "id": "b303d825-1a46-43a7-96ea-c9c9ec60d6f2",
   "metadata": {},
   "outputs": [],
   "source": [
    "import json\n",
    "from utils.schema import *\n",
    "from utils.reverse_logic import *\n",
    "from utils.reverse_sql import *\n",
    "from utils.reverse_middle import *\n",
    "from utils.parse import *\n",
    "import os\n",
    "import random\n",
    "import copy"
   ]
  },
  {
   "cell_type": "code",
   "execution_count": 6,
   "id": "48126ae0-72eb-4919-9f84-4ef28848dfc0",
   "metadata": {},
   "outputs": [],
   "source": [
    "with open('raw_data/tables.json','r') as f:\n",
    "    db = json.load(f)\n",
    "db_dict = {}\n",
    "schemas, db_names, tables = get_schemas_from_json('raw_data/tables.json')\n",
    "for item in db:\n",
    "    db_dict[item['db_id']] = item\n",
    "\n",
    "db_reverse = {}\n",
    "db_c_ori2pre = {}\n",
    "db_t_ori2pre = {}\n",
    "for k,v in db_dict.items():\n",
    "    db_reverse[k] = {}\n",
    "    column = []\n",
    "    table = []\n",
    "    db_c_ori2pre[k] = {}\n",
    "    db_t_ori2pre[k] = {}\n",
    "    for o,c in zip(v['column_names'],v['column_names_original']):\n",
    "        column.append([o[0],o[1],c[1]])\n",
    "        db_c_ori2pre[k][c[1]] = o[1]\n",
    "    db_reverse[k]['column'] = column\n",
    "    for o,c in zip(v['table_names'],v['table_names_original']):\n",
    "        table.append([o,c])\n",
    "        db_t_ori2pre[k][c] = o\n",
    "    db_reverse[k]['table'] = table\n",
    "db_aug = {}\n",
    "for k,v in db_dict.items():\n",
    "    col_temp = {}\n",
    "    for index, item in enumerate(v['column_names']):\n",
    "        if item[0] not in col_temp.keys():\n",
    "            if item[1] in v['primary_keys']:\n",
    "                col_temp[item[0]] = [(index,item[1],v['column_types'][index],'primary')]\n",
    "            else:\n",
    "                col_temp[item[0]] = [(index,item[1],v['column_types'][index],'None')]\n",
    "        else:\n",
    "            if item[1] in v['primary_keys']:\n",
    "                col_temp[item[0]].append((index,item[1],v['column_types'][index],'primary'))\n",
    "            else:\n",
    "                col_temp[item[0]].append((index,item[1],v['column_types'][index],'None'))\n",
    "    db_aug[k] = col_temp"
   ]
  },
  {
   "cell_type": "code",
   "execution_count": 7,
   "id": "83e0b45c-35e5-4c1d-9f00-7bb35641b82e",
   "metadata": {},
   "outputs": [],
   "source": [
    "def is_number(s):\n",
    "    try:\n",
    "        float(s)\n",
    "        return True\n",
    "    except ValueError:\n",
    "        return False\n",
    "db_value = {}\n",
    "for k,v in db_dict.items():\n",
    "    col_value = {}\n",
    "    db_id = v['db_id']\n",
    "    db_file = os.path.join('raw_data/database', db_id, db_id + '.sqlite')\n",
    "    if not os.path.exists(db_file):\n",
    "        raise ValueError('[ERROR]: database file %s not found ...' % (db_file))\n",
    "    conn = sqlite3.connect(db_file)\n",
    "    conn.text_factory = lambda b: b.decode(errors='ignore')\n",
    "    conn.execute('pragma foreign_keys=ON')\n",
    "    for i, (tab_id, col_name) in enumerate(db_dict[db_id]['column_names_original']):\n",
    "        if i == 0 : # ignore * and special token 'id'\n",
    "            continue\n",
    "        tab_name = db_dict[db_id]['table_names_original'][tab_id]\n",
    "        cursor = conn.execute(\"SELECT DISTINCT \\\"%s\\\" FROM \\\"%s\\\";\" % (col_name, tab_name))\n",
    "        cell_values = cursor.fetchall()\n",
    "        cell_values = [str(each[0]) for each in cell_values]\n",
    "        cell_values = [[str(float(each))] if is_number(each) else each.lower().split() for each in cell_values]\n",
    "        col_value[i] = cell_values\n",
    "    db_value[k] = col_value"
   ]
  },
  {
   "cell_type": "code",
   "execution_count": 8,
   "id": "708b4dc6-ef92-4b36-a127-22d764996874",
   "metadata": {},
   "outputs": [],
   "source": [
    "random.seed(999)\n",
    "string_no_agg = ['min','max','avg','sum']\n",
    "value_no_agg = ['count']\n",
    "time_no_agg = ['avg','sum','count']\n",
    "def replace_select(middle,db_id,num = 1,agg = [''],distinct = [False]):\n",
    "    table_idxs = middle['from']['table']\n",
    "    col_ori = []\n",
    "    col_aug = db_aug[db_id]\n",
    "    for item in middle['select']:\n",
    "        col_ori.append((item[0],item[2]))\n",
    "    replaced = []\n",
    "    result = []\n",
    "    step = 0\n",
    "    for index in range(num):\n",
    "        flag = True\n",
    "        while flag:\n",
    "            if step >= 20:\n",
    "                return (middle ,replaced, False)\n",
    "            tab_index = random.randint(0,len(table_idxs)-1)\n",
    "            col_idxs = col_aug[table_idxs[tab_index]]\n",
    "            col_index = random.randint(0,len(col_idxs)-1)\n",
    "            if num > 1:\n",
    "                if col_index == 0:\n",
    "                    step += 1\n",
    "                    continue\n",
    "            if col_index == 0:\n",
    "                distinct[index] = False\n",
    "            if (col_idxs[col_index][0],agg[index]) in col_ori:\n",
    "                step += 1\n",
    "                continue\n",
    "            if agg[index] != '':\n",
    "                if agg[index] in string_no_agg and col_idxs[col_index][2] == 'text':\n",
    "                    step += 1\n",
    "                    continue\n",
    "                if agg[index] in value_no_agg and col_idxs[col_index][2] == 'number' :\n",
    "                    step += 1\n",
    "                    continue\n",
    "                if agg[index] in time_no_agg and col_idxs[col_index][2] == 'time' :\n",
    "                    step += 1\n",
    "                    continue\n",
    "            flag = False\n",
    "            result.append([col_idxs[col_index][0],table_idxs[tab_index],agg[index],distinct[index]])\n",
    "            replaced.append(col_idxs[col_index][1])\n",
    "            col_ori.append((col_idxs[col_index][0],agg[index]))\n",
    "    middle['select'] = result\n",
    "    return (middle ,replaced,True)\n",
    "def add_select(middle,db_id,num = 1,agg = [''],distinct = [False]):\n",
    "    table_idxs = middle['from']['table']\n",
    "    col_ori = []\n",
    "    col_aug = db_aug[db_id]\n",
    "    for item in middle['select']:\n",
    "        col_ori.append((item[0],item[2]))\n",
    "    added = []\n",
    "    step = 0\n",
    "    result = []\n",
    "    for index in range(num):\n",
    "        flag = True\n",
    "        while flag:\n",
    "            if step >= 20:\n",
    "                return (middle ,added, False)\n",
    "            tab_index = random.randint(0,len(table_idxs)-1)\n",
    "            col_idxs = col_aug[table_idxs[tab_index]]\n",
    "            col_index = random.randint(0,len(col_idxs)-1)\n",
    "            if num > 1:\n",
    "                if col_index == 0:\n",
    "                    step += 1\n",
    "                    continue\n",
    "            if col_index == 0:\n",
    "                distinct[index] = False\n",
    "            if (col_idxs[col_index][0],agg[index]) in col_ori:\n",
    "                step += 1\n",
    "                continue\n",
    "            if agg[index] != '':\n",
    "                if agg[index] in string_no_agg and col_idxs[col_index][2] == 'text':\n",
    "                    step += 1\n",
    "                    continue\n",
    "                if agg[index] in value_no_agg and col_idxs[col_index][2] == 'number' :\n",
    "                    step += 1\n",
    "                    continue\n",
    "                if agg[index] in time_no_agg and col_idxs[col_index][2] == 'time' :\n",
    "                    step += 1\n",
    "                    continue\n",
    "            flag = False\n",
    "            result.append([col_idxs[col_index][0],table_idxs[tab_index],agg[index],distinct[index]])\n",
    "            added.append(col_idxs[col_index][1])\n",
    "            col_ori.append((col_idxs[col_index][1],agg[index]))\n",
    "    middle['select'].extend(result)   \n",
    "    return (middle ,added, True)\n",
    "def replace_count(middle,db_id,col = False):\n",
    "    table_idxs = middle['from']['table']\n",
    "    col_ori = []\n",
    "    col_aug = db_aug[db_id]\n",
    "    for item in middle['select']:\n",
    "        col_ori.append((item[0],item[2]))\n",
    "    added = []\n",
    "    result = []\n",
    "    index = 1\n",
    "    flag = True\n",
    "    step = 0\n",
    "    \n",
    "    while flag:\n",
    "        if step >= 20:\n",
    "            return (middle ,added, False)\n",
    "        if col:\n",
    "            tab_index = random.randint(0,len(table_idxs)-1)\n",
    "            col_idxs = col_aug[table_idxs[tab_index]]\n",
    "            col_index = random.randint(0,len(col_idxs)-1)\n",
    "            if col_idxs[col_index][2] != 'text':\n",
    "                step += 1\n",
    "                continue\n",
    "            if col_index == 0:\n",
    "                step += 1\n",
    "                continue\n",
    "            if (col_idxs[col_index][0],'count') in col_ori:\n",
    "                step += 1\n",
    "                continue\n",
    "\n",
    "            flag = False\n",
    "            result.append([col_idxs[col_index][0],table_idxs[tab_index],'count',False])\n",
    "            added.append(col_idxs[col_index][1])\n",
    "        else:\n",
    "            if (0,'count') in col_ori:\n",
    "                return (middle,added,False)\n",
    "            result.append([0,-1,'count',False])\n",
    "            flag = False\n",
    "    middle['select'].extend(result)\n",
    "    return (middle ,added, True)\n",
    "def replace_agg(middle,db_id,num = 1,theagg = ['']):\n",
    "    table_idxs = middle['from']['table']\n",
    "    col_ori = []\n",
    "    col_db = db_dict[db_id]\n",
    "    for item in middle['select']:\n",
    "        if item[0] != 0:\n",
    "            col_ori.append((item[0],item[2]))\n",
    "    \n",
    "    replaced = []\n",
    "    result = copy.deepcopy(middle['select'])\n",
    "    index = 0\n",
    "    step = 0\n",
    "    if len(col_ori) == 0 or len(col_ori) < num:\n",
    "        return (middle,replaced,False)\n",
    "    for index in range(num):\n",
    "        flag = True\n",
    "        while flag:\n",
    "            if step >= 20:\n",
    "                return (middle ,replaced, False)\n",
    "            col_index = random.randint(0,len(result)-1)\n",
    "            if (result[col_index][0],result[col_index][2]) not in col_ori:\n",
    "                step += 1\n",
    "                continue\n",
    "            ttype = col_db['column_types'][result[col_index][0]]\n",
    "            if ttype == 'text':\n",
    "                agg = random.sample(['count'],1)[0]\n",
    "            elif ttype == 'number':\n",
    "                agg = random.sample(['sum','max','min','avg'],1)[0]\n",
    "            else:\n",
    "                agg = random.sample(['max','min'],1)[0]\n",
    "            if (result[col_index][0],agg) in col_ori:\n",
    "                step += 1\n",
    "                continue\n",
    "            if index <= len(theagg)-1 and theagg[0] != '':\n",
    "                agg = theagg[index]\n",
    "                index += 1\n",
    "            flag = False\n",
    "            result[col_index][2] = str(agg)\n",
    "            replaced.append(agg)\n",
    "    middle['select'] = result\n",
    "    return (middle,replaced,True)\n",
    "#[10, 1, '', 'one', '!=', '\"Banking\"', 'None']\n",
    "def replace_where(middle,db_id,num = 1):\n",
    "    table_idxs = middle['from']['table']\n",
    "    where_ori = []\n",
    "    col_db = db_dict[db_id]\n",
    "    col_value = db_value[db_id]\n",
    "    col_aug = db_aug[db_id]\n",
    "    for item in middle['where']:\n",
    "        where_ori.append((item[0],item[4]))\n",
    "    result = []\n",
    "    replaced = []\n",
    "    index = 0\n",
    "    step = 0\n",
    "    for index in range(num):\n",
    "        flag = True\n",
    "        while flag:\n",
    "            if step >= 20:\n",
    "                return (middle ,replaced, False)\n",
    "            tab_index = random.randint(0,len(table_idxs)-1)\n",
    "            col_idxs = col_aug[table_idxs[tab_index]]\n",
    "            col_index = random.randint(0,len(col_idxs)-1)\n",
    "            if col_idxs[col_index][0] == 0:\n",
    "                step += 1\n",
    "                continue\n",
    "            ttype = col_idxs[col_index][2]\n",
    "            if ttype == 'text':\n",
    "                op = random.sample(['=','!=','LIKE'],1)[0]\n",
    "            elif ttype == 'number':\n",
    "                op = random.sample(['=','!=','>','<','>=','<='],1)[0]\n",
    "            else:\n",
    "                op = random.sample(['=','!=','>','<','>=','<='],1)[0]\n",
    "            value = ' '.join(random.sample(col_value[col_idxs[col_index][0]],1)[0])\n",
    "            if (col_idxs[col_index][0],op) in where_ori:\n",
    "                step += 1\n",
    "                continue\n",
    "            flag = False\n",
    "            AND = 'one'\n",
    "            if index > 0:\n",
    "                AND = 'AND'\n",
    "            if '\"' not in value:\n",
    "                value = '\"' + value + '\"'\n",
    "            where_ori.append((col_idxs[col_index][0],op))\n",
    "            result.append([col_idxs[col_index][0],table_idxs[tab_index],'',AND,op,value,'None'])\n",
    "            replaced.append((col_idxs[col_index][1],op,value))\n",
    "    middle['where'] = result\n",
    "    return (middle,replaced,True)\n",
    "def add_where(middle,db_id,num = 1):\n",
    "    table_idxs = middle['from']['table']\n",
    "    where_ori = []\n",
    "    col_db = db_dict[db_id]\n",
    "    col_value = db_value[db_id]\n",
    "    col_aug = db_aug[db_id]\n",
    "    \n",
    "    if middle['where'] != None:\n",
    "        for item in middle['where']:\n",
    "            where_ori.append((item[0],item[4]))\n",
    "        result = copy.deepcopy(middle['where'])\n",
    "    else:\n",
    "        result = []\n",
    "    added = []\n",
    "    index = len(where_ori)\n",
    "    \n",
    "    step = 0\n",
    "    for _ in range(num):\n",
    "        flag = True\n",
    "        while flag:\n",
    "            if step >= 20:\n",
    "                return (middle ,added, False)\n",
    "            tab_index = random.randint(0,len(table_idxs)-1)\n",
    "            col_idxs = col_aug[table_idxs[tab_index]]\n",
    "            col_index = random.randint(0,len(col_idxs)-1)\n",
    "            \n",
    "            if col_idxs[col_index][0] == 0:\n",
    "                step += 1\n",
    "                continue\n",
    "            ttype = col_idxs[col_index][2]\n",
    "            if ttype == 'text':\n",
    "                op = random.sample(['=','!=','LIKE'],1)[0]\n",
    "            elif ttype == 'number':\n",
    "                op = random.sample(['=','!=','>','<','>=','<='],1)[0]\n",
    "            else:\n",
    "                op = random.sample(['=','!=','>','<','>=','<='],1)[0]\n",
    "            value = ' '.join(random.sample(col_value[col_idxs[col_index][0]],1)[0])\n",
    "            if (col_idxs[col_index][0],op) in where_ori:\n",
    "                step += 1\n",
    "                continue\n",
    "            flag = False\n",
    "            AND = 'one'\n",
    "            if index > 0:\n",
    "                AND = 'AND'\n",
    "            index += 1\n",
    "            if '\"' not in value:\n",
    "                value = '\"' + value + '\"'\n",
    "            where_ori.append((col_idxs[col_index][0],op))\n",
    "            result.append([col_idxs[col_index][0],table_idxs[tab_index],'',AND,op,value,'None'])\n",
    "            added.append((col_idxs[col_index][1],op,value))\n",
    "    middle['where'] = result\n",
    "    return (middle,added,True)\n",
    "#[10, 1, '', 'one', '!=', '\"Banking\"', 'None']\n",
    "def replace_op(middle,db_id,num = 1):\n",
    "    table_idxs = middle['from']['table']\n",
    "    where_ori = []\n",
    "    col_db = db_dict[db_id]\n",
    "    col_value = db_value[db_id]\n",
    "    col_aug = db_aug[db_id]\n",
    "    replaced = []\n",
    "    if middle['where'] == None:\n",
    "        return (middle ,replaced, False)\n",
    "    for item in middle['where']:\n",
    "        where_ori.append((item[0],item[4]))\n",
    "    if len(where_ori) < num:\n",
    "        return (middle ,replaced, False)\n",
    "    result = copy.deepcopy(middle['where'])\n",
    "    index = 0\n",
    "    step = 0\n",
    "    for index in range(num):\n",
    "        flag = True\n",
    "        while flag:\n",
    "            if step >= 20:\n",
    "                return (middle ,replaced, False)\n",
    "            col = random.sample(result,1)[0]\n",
    "            example_index = result.index(col)\n",
    "            col_index,tab_index = col[0],col[1]\n",
    "            if col_index == 0:\n",
    "                step += 1\n",
    "                continue\n",
    "            ttype = col_db['column_types'][col_index]\n",
    "            if ttype == 'text':\n",
    "                op = random.sample(['=','!=','LIKE'],1)[0]\n",
    "            elif ttype == 'number':\n",
    "                op = random.sample(['=','!=','>','<','>=','<='],1)[0]\n",
    "            else:\n",
    "                op = random.sample(['=','!=','>','<','>=','<='],1)[0]\n",
    "            value = ' '.join(random.sample(col_value[col_index],1)[0])\n",
    "            if (col_index,op) in where_ori:\n",
    "                step += 1\n",
    "                continue\n",
    "            flag = False\n",
    "            where_ori.append((col_index,op))\n",
    "            result[example_index][4] = op\n",
    "            if '\"' not in value:\n",
    "                value = '\"' + value + '\"'\n",
    "            result[example_index][5] = value\n",
    "            replaced.append((op,value))\n",
    "    middle['where'] = result\n",
    "    return (middle,replaced,True)\n",
    "def add_orderby(middle,db_id,asc = 'ASC',limit = ''):\n",
    "    table_idxs = middle['from']['table']\n",
    "    where_ori = []\n",
    "    col_db = db_dict[db_id]\n",
    "    col_value = db_value[db_id]\n",
    "    col_aug = db_aug[db_id]\n",
    "    added = []\n",
    "    if middle['orderBy'] != None:\n",
    "        return (middle ,added, False)\n",
    "    if len(middle['select']) == 1:\n",
    "        if middle['select'][0][0] == 0 and middle['select'][0][2] == 'count':\n",
    "            return (middle ,added, False)\n",
    "    flag = True\n",
    "    step = 0\n",
    "    while flag:\n",
    "        if step >= 20:\n",
    "            return (middle ,added, False)\n",
    "        tab_index = random.randint(0,len(table_idxs)-1)\n",
    "        col_idxs = col_aug[table_idxs[tab_index]]\n",
    "        col_index = random.randint(0,len(col_idxs)-1)\n",
    "        if col_idxs[col_index][0] == 0:\n",
    "            step += 1\n",
    "            continue\n",
    "        ttype = col_idxs[col_index][2]\n",
    "        if ttype == 'text':\n",
    "            step += 1\n",
    "            continue\n",
    "        \n",
    "        flag = False\n",
    "        middle['orderBy'] = [[col_idxs[col_index][0],table_idxs[tab_index],'',limit,asc]]\n",
    "        added.append((col_idxs[col_index][1]))\n",
    "    return (middle,added,True)\n",
    "def add_having(middle,db_id,op,value):\n",
    "    table_idxs = middle['from']['table']\n",
    "    where_ori = []\n",
    "    col_db = db_dict[db_id]\n",
    "    col_value = db_value[db_id]\n",
    "    col_aug = db_aug[db_id]\n",
    "    added = []\n",
    "    if middle['having'] != None:\n",
    "        return (middle ,added, False)\n",
    "    if middle['groupBy'] == None:\n",
    "        return (middle ,added, False)\n",
    "    flag = True\n",
    "    step = 0\n",
    "    while flag:\n",
    "        if step >= 20:\n",
    "            return (middle ,added, False)\n",
    "        \n",
    "        flag = False\n",
    "        middle['having'] = [[0, -1, 'count', 'one', op, value, 'None']]\n",
    "    return (middle,added,True)\n",
    "def replace_asc(middle,db_id,asc = 'ASC'):\n",
    "    table_idxs = middle['from']['table']\n",
    "    where_ori = []\n",
    "    col_db = db_dict[db_id]\n",
    "    col_value = db_value[db_id]\n",
    "    col_aug = db_aug[db_id]\n",
    "    added = []\n",
    "    if middle['orderBy'] == None:\n",
    "        return (middle ,added, False)\n",
    "    if middle['orderBy'][0][4] == asc:\n",
    "        return (middle ,added, False)\n",
    "    \n",
    "    middle['orderBy'][0][4] = asc\n",
    "    return (middle,added,True)\n",
    "def add_groupby(middle,db_id):\n",
    "    table_idxs = middle['from']['table']\n",
    "    where_ori = []\n",
    "    col_db = db_dict[db_id]\n",
    "    col_value = db_value[db_id]\n",
    "    col_aug = db_aug[db_id]\n",
    "    added = []\n",
    "    if middle['groupBy'] != None:\n",
    "        return (middle ,added, False)\n",
    "    flag = True\n",
    "    step = 0\n",
    "    while flag:\n",
    "        if step >= 20:\n",
    "            return (middle ,added, False)\n",
    "        tab_index = random.randint(0,len(table_idxs)-1)\n",
    "        col_idxs = col_aug[table_idxs[tab_index]]\n",
    "        col_index = random.randint(0,len(col_idxs)-1)\n",
    "        if col_idxs[col_index][0] == 0:\n",
    "            step += 1\n",
    "            continue\n",
    "        ttype = col_idxs[col_index][2]\n",
    "        if ttype != 'text':\n",
    "            step += 1\n",
    "            continue\n",
    "        \n",
    "        flag = False\n",
    "        middle['groupBy'] = [[col_idxs[col_index][0],table_idxs[tab_index]]]\n",
    "        added.append((col_idxs[col_index][1]))\n",
    "    return (middle,added,True)"
   ]
  },
  {
   "cell_type": "code",
   "execution_count": 10,
   "id": "0ab85054-fdbe-4f6b-91c2-ce7cc5443a91",
   "metadata": {},
   "outputs": [],
   "source": [
    "with open('preprocessed/context_ready.txt','r') as f:\n",
    "    template_ori = f.readlines()\n",
    "with open('preprocessed/alldata.json','r') as f:\n",
    "    data_all = json.load(f)\n",
    "# question_ori = [''] * len(data_all)\n",
    "with open('preprocessed/final_generation.json','r') as f:\n",
    "    question_ori = json.load(f)\n",
    "template = []\n",
    "index = 0\n",
    "for item in template_ori:\n",
    "    temp = {}\n",
    "    line = item.strip()\n",
    "    if len(line.split(' ||| ')) == 2:\n",
    "        question,opt = line.split(' ||| ')\n",
    "        constrain = None\n",
    "    if len(line.split(' ||| ')) == 3:\n",
    "        question,opt,constrain = line.split(' ||| ')\n",
    "    temp['question'] = question\n",
    "    temp['opt'] = eval(opt)\n",
    "    if constrain != None:\n",
    "        temp['constrain'] = eval(constrain)\n",
    "    else:\n",
    "        temp['constrain'] = None\n",
    "    template.append(temp)\n",
    "    index += 1"
   ]
  },
  {
   "cell_type": "code",
   "execution_count": 11,
   "id": "e335d4f8-aad1-4c4b-a924-3a4d34e94a1b",
   "metadata": {},
   "outputs": [],
   "source": [
    "data_single = []\n",
    "for index,item in enumerate(data_all):\n",
    "    temp = {}\n",
    "    temp['question'] = [question_ori[index]]\n",
    "    if item['question'].count('[CLS]') == 0:\n",
    "        temp['question'].append(item['question'])\n",
    "    temp['middle'] = item['middle']\n",
    "    temp['query'] = item['query']\n",
    "    temp['db_id'] = item['db_id']\n",
    "    data_single.append(temp)\n",
    "data_db = {}\n",
    "for item in data_single:\n",
    "    if item['db_id'] not in data_db.keys():\n",
    "        data_db[item['db_id']] = [item]\n",
    "    else:\n",
    "        data_db[item['db_id']].append(item)"
   ]
  },
  {
   "cell_type": "code",
   "execution_count": 12,
   "id": "3288e83e-8b8d-4720-abb8-0818b103233f",
   "metadata": {},
   "outputs": [],
   "source": [
    "def check_constrain(cur,template):\n",
    "    if template['constrain'] != None:\n",
    "        if 'compent' in template['constrain'].keys():\n",
    "            for item in template['constrain']['compent']:\n",
    "                if cur['middle'][item] == None:\n",
    "                    return False\n",
    "        if 'no_compent' in template['constrain'].keys():\n",
    "            for item in template['constrain']['no_compent']:\n",
    "                 if cur['middle'][item] != None:\n",
    "                    return False\n",
    "        if 'num_select' in template['constrain'].keys():\n",
    "            if len(cur['middle']['select']) != template['constrain']['num_select']:\n",
    "                return False\n",
    "        if 'num_where' in template['constrain'].keys():\n",
    "            if cur['middle']['where'] == None:\n",
    "                return False\n",
    "            if len(cur['middle']['where']) != template['constrain']['num_where']:\n",
    "                return False\n",
    "\n",
    "    return True"
   ]
  },
  {
   "cell_type": "code",
   "execution_count": 13,
   "id": "8139487f-073f-457d-a2d5-443690e26745",
   "metadata": {},
   "outputs": [],
   "source": [
    "col_replace = ['{column0}','{column1}','{column2}']\n",
    "agg_replace = ['{agg0}','{agg1}','{agg2}']\n",
    "op_replace = ['{op0}','{op1}','{op2}']\n",
    "value_replace = ['{value0}','{value1}','{value2}']\n",
    "agg_trans = {'max':[\"maximum\",\"maximum number\",\"maximum amount\",\"the largest\",\"the highest\"],\\\n",
    " 'min':[\"minimum\",\"minimum number\",\"minimum number\",\"the smallest\",\"the lowest\",],\\\n",
    " 'count':[\"the number\"],\\\n",
    " 'avg':[\"the average\",\"the average number\",\"the mean\"],\\\n",
    " 'sum':[\"the total number\",\"total count\",\"sum of\",\"in total\",\"the number of all\",\"the total amount\"]}\n",
    "op_trans = {\n",
    "    \"=\": [\"is\", \"was\", \"are\", \"equal\"],\n",
    "    \">\": [\"more than\", \"higher than\", \"above\", \"bigger than\", \"over\", \"above\"],\n",
    "    \"<\": [\"less than\", \"lower than\", \"below\", \"small than\", \"under\", \"below\"],\n",
    "    \">=\": [\"no less than\", \"no lower than\", \"no below\", \"no small than\", \n",
    "     \"no under\", \"at least\", \"or more\", \"no below\", \"not less than\", \"not lower than\", \"not below\",\n",
    "      \"not small than\",  \"not before\", \"not under\", \"not below\"],\n",
    "    \"<=\": [\"no more than\", \"no higher than\", \"no above\", \"no bigger than\",\n",
    "     \"no over\", \"no above\", \"at most\", \"or less\", \"not more than\", \"not higher than\", \"not above\",\n",
    "      \"not bigger than\",  \"not after\", \"not over\", \"not above\"],\n",
    "    \"!=\": [\"does not equal to\", \"is not\", \"that are not\", \"were not\", \"that was not\", \"is non\", \"excluding\", \"not including\",\n",
    "      \"except for\", \"ignore\", \"outside\", \"other than\"],\n",
    "    \"LIKE\": [\"has the substring\", \"contains the word\", \"contains\", \"containing\", \"have substring\", \"starts with\", \"have the letter\", \"includes the substring\"]\n",
    "}\n",
    "def generation_one(cur,template):\n",
    "    one = {}\n",
    "    one['db_id'] = cur['db_id']\n",
    "    flag = False\n",
    "    col_index = 0\n",
    "    agg_index = 0\n",
    "    op_index = 0\n",
    "    value_index = 0\n",
    "    db_id = cur['db_id']\n",
    "    one['question'] = template['question']\n",
    "    if check_constrain(cur,template):\n",
    "        middle = cur['middle']\n",
    "        \n",
    "        if 'replace_select' in template['opt'].keys():\n",
    "            num = 1\n",
    "            agg = ['']\n",
    "            distinct = False\n",
    "            if template['opt']['replace_select'] != None:\n",
    "                num = len(template['opt']['replace_select'])\n",
    "                agg = template['opt']['replace_select']\n",
    "                \n",
    "                distinct = [False] * num\n",
    "            middle,col,isok = replace_select(middle,db_id,num ,agg,distinct)\n",
    "\n",
    "            if isok == False:\n",
    "                return (one,False)\n",
    "            for idx in range(num):\n",
    "                one['question'] = one['question'].replace(col_replace[col_index],col[idx])\n",
    "                col_index += 1\n",
    "                    \n",
    "        if 'add_select' in template['opt'].keys():\n",
    "            num = 1\n",
    "            agg = ['']\n",
    "            distinct = False\n",
    "            if template['opt']['add_select'] != None:\n",
    "                num = len(template['opt']['add_select'])\n",
    "                agg = template['opt']['add_select']\n",
    "                \n",
    "                distinct = [False] * num\n",
    "            middle,col,isok = add_select(middle,db_id,num ,agg,distinct)\n",
    "\n",
    "            if isok == False:\n",
    "                return (one,False)\n",
    "            for idx in range(num):\n",
    "                one['question'] = one['question'].replace(col_replace[col_index],col[idx])\n",
    "                col_index += 1\n",
    "\n",
    "        if 'replace_agg' in template['opt'].keys():\n",
    "            num = 1\n",
    "            if template['opt']['replace_agg'] != None:\n",
    "                #todo\n",
    "                pass\n",
    "                \n",
    "            middle,col,isok = replace_agg(middle,db_id,num)\n",
    "            if isok == False:\n",
    "                return (one,False)\n",
    "            for _ in range(num):\n",
    "                one['question'] = one['question'].replace(agg_replace[agg_index],random.sample(agg_trans[col[agg_index]],1)[0])\n",
    "                agg_index += 1\n",
    "        \n",
    "        if 'replace_count' in template['opt'].keys():\n",
    "            needcol = False\n",
    "            num = 1\n",
    "            if template['opt']['replace_count'] != None:\n",
    "                needcol = True\n",
    "            middle,col,isok = replace_count(middle,db_id,needcol)\n",
    "            if isok == False:\n",
    "                return (one,False)\n",
    "            if needcol:\n",
    "                for idx in range(num):\n",
    "                    one['question'] = one['question'].replace(col_replace[col_index],col[idx])\n",
    "                    col_index += 1\n",
    "\n",
    "                \n",
    "        if 'replace_where' in template['opt'].keys():\n",
    "            num = 1\n",
    "            agg = ['']\n",
    "            distinct = False\n",
    "            if template['opt']['replace_where'] != None:\n",
    "                #todo\n",
    "                pass\n",
    " \n",
    "            middle,col,isok = replace_where(middle,db_id,num)\n",
    "            if isok == False:\n",
    "                return (one,False)\n",
    "            for _ in range(num):\n",
    "                one['question'] = one['question'].replace(col_replace[col_index],col[0][0])\n",
    "                one['question'] = one['question'].replace(op_replace[col_index],random.sample(op_trans[col[0][1]],1)[0])\n",
    "                one['question'] = one['question'].replace(value_replace[value_index],col[0][2])\n",
    "                col_index += 1\n",
    "                op_index += 1\n",
    "                value_index += 1\n",
    "                \n",
    "        if 'add_where' in template['opt'].keys():\n",
    "            num = 1\n",
    "            if template['opt']['add_where'] != None:\n",
    "                #todo\n",
    "                pass\n",
    " \n",
    "            middle,col,isok = add_where(middle,db_id,num)\n",
    "            if isok == False:\n",
    "                return (one,False)\n",
    "            for _ in range(num):\n",
    "                one['question'] = one['question'].replace(col_replace[col_index],col[0][0])\n",
    "                one['question'] = one['question'].replace(op_replace[col_index],random.sample(op_trans[col[0][1]],1)[0])\n",
    "                one['question'] = one['question'].replace(value_replace[value_index],col[0][2])\n",
    "                col_index += 1\n",
    "                op_index += 1\n",
    "                value_index += 1\n",
    "        \n",
    "        if 'replace_op' in template['opt'].keys():\n",
    "            num = 1\n",
    "            if template['opt']['replace_op'] != None:\n",
    "                #todo\n",
    "                pass\n",
    " \n",
    "            middle,col,isok = replace_op(middle,db_id,num)\n",
    "            if isok == False:\n",
    "                return (one,False)\n",
    "            for _ in range(num):\n",
    "                one['question'] = one['question'].replace(op_replace[col_index],random.sample(op_trans[col[0][0]],1)[0])\n",
    "                one['question'] = one['question'].replace(value_replace[value_index],col[0][1])\n",
    "                op_index += 1\n",
    "                value_index += 1\n",
    "       \n",
    "        \n",
    "        if 'add_orderby' in template['opt'].keys():\n",
    "            asc = 'ASC'\n",
    "            limit = ''\n",
    "            if template['opt']['add_orderby'] != None:\n",
    "                asc = template['opt']['add_orderby'][0][0]\n",
    "                limit = template['opt']['add_orderby'][0][1]\n",
    " \n",
    "            middle,col,isok = add_orderby(middle,db_id,asc,limit)\n",
    "            if isok == False:\n",
    "                return (one,False)\n",
    "            one['question'] = one['question'].replace(col_replace[col_index],col[0])\n",
    "            col_index += 1\n",
    "        \n",
    "        \n",
    "        \n",
    "        if 'replace_asc' in template['opt'].keys():\n",
    "            asc = 'ASC'\n",
    "            limit = ''\n",
    "            if template['opt']['replace_asc'] != None:\n",
    "                asc = template['opt']['replace_asc']\n",
    "\n",
    "            middle,col,isok = replace_asc(middle,db_id,asc)\n",
    "            if isok == False:\n",
    "                return (one,False)\n",
    "            \n",
    "        if 'add_groupby' in template['opt'].keys():\n",
    "            if template['opt']['add_groupby'] != None:\n",
    "                #todo\n",
    "                pass\n",
    " \n",
    "            middle,col,isok = add_groupby(middle,db_id)\n",
    "            if isok == False:\n",
    "                return (one,False)\n",
    "            one['question'] = one['question'].replace(col_replace[col_index],col[0])\n",
    "            col_index += 1\n",
    "        \n",
    "        if 'add_having' in template['opt'].keys():\n",
    "            asc = 'ASC'\n",
    "            limit = ''\n",
    "            if template['opt']['add_having'] != None:\n",
    "                op = template['opt']['add_having'][0][0]\n",
    "                value = template['opt']['add_having'][0][1]\n",
    " \n",
    "            middle,col,isok = add_having(middle,db_id,op,value)\n",
    "            if isok == False:\n",
    "                return (one,False)\n",
    "            \n",
    "    else:\n",
    "        return (one,False)\n",
    "#     one['middle'] = middle\n",
    "    one['middle'] = middle\n",
    "    return (one,True)"
   ]
  },
  {
   "cell_type": "code",
   "execution_count": 14,
   "id": "0f2f8234-b0d3-4324-95b2-562f015111d6",
   "metadata": {},
   "outputs": [],
   "source": [
    "def generation_multi(single,num,turn = 5):\n",
    "    data_multi = []\n",
    "#     first = random.sample(single,1)[0]\n",
    "    first = copy.deepcopy(single)\n",
    "    temp = copy.deepcopy(first)\n",
    "    temp['relate'] = 0\n",
    "    temp['question'] = random.sample(temp['question'],1)[0]\n",
    "    data_multi.append(temp)\n",
    "    index = 1\n",
    "    index1 = 1\n",
    "    total = 0\n",
    "    his = [first['query']]\n",
    "    relate = 1\n",
    "    therelate = 0\n",
    "    while total < turn:\n",
    "        if random.random() > 0.4 and therelate < 3:\n",
    "            therelate += 1\n",
    "            flag = True\n",
    "            while flag:\n",
    "                if  index > num:\n",
    "                    return (data_multi,False)\n",
    "                cur_temp = random.sample(template,1)[0]\n",
    "                one,isok = generation_one(first,cur_temp)\n",
    "                \n",
    "                if not isok:\n",
    "                    index += 1\n",
    "                    continue\n",
    "                one['query'] = translate_sql(one['middle'],0,one['db_id'],db_reverse)\n",
    "                if one['query'] in his:\n",
    "#                 print(get_struct_similarity(one['query'], his))\n",
    "                # if 1 in get_struct_similarity(one['query'], his):\n",
    "                    # print('chongfu')\n",
    "                    index += 1\n",
    "                    continue\n",
    "\n",
    "#                 print(one)\n",
    "                temp = copy.deepcopy(one)\n",
    "                temp['relate'] = relate\n",
    "                data_multi.append(temp)\n",
    "                his.append(one['query'])\n",
    "#                 print(total)\n",
    "                total += 1\n",
    "                flag = False\n",
    "                if random.random() > 0.05:\n",
    "                    first = one\n",
    "                    relate = 1\n",
    "                else:\n",
    "                    relate = relate + 1\n",
    "        else:\n",
    "            therelate = 0\n",
    "            flag = True\n",
    "            while flag:\n",
    "                if  index1 > num:\n",
    "                    flag = False\n",
    "                second = copy.deepcopy(random.sample(data_db[first['db_id']],1)[0])\n",
    "#                 print(get_struct_similarity(one['query'], his))\n",
    "                # if second['query'] == first['query']:\n",
    "                if second['query'] in his:\n",
    "                    # print('chongfu')\n",
    "                    index1 += 1\n",
    "                    continue\n",
    "                temp = copy.deepcopy(second)\n",
    "                temp['relate'] = 0\n",
    "                temp['question'] = random.sample(temp['question'],1)[0]\n",
    "                data_multi.append(temp)\n",
    "                his.append(second['query'])\n",
    "                total += 1\n",
    "                flag = False\n",
    "                if random.random() > 0.05:\n",
    "                    first = second\n",
    "                    relate = 1\n",
    "                else:\n",
    "                    relate = relate + 1\n",
    "    return (data_multi,True)"
   ]
  },
  {
   "cell_type": "code",
   "execution_count": 15,
   "id": "e9e1c598-9289-4685-83b1-86795285c437",
   "metadata": {},
   "outputs": [
    {
     "name": "stderr",
     "output_type": "stream",
     "text": [
      "100%|██████████| 15281/15281 [00:09<00:00, 1561.61it/s]\n",
      "100%|██████████| 15281/15281 [00:09<00:00, 1620.37it/s]\n",
      "100%|██████████| 15281/15281 [00:09<00:00, 1580.90it/s]\n",
      "100%|██████████| 15281/15281 [00:09<00:00, 1542.60it/s]\n",
      "100%|██████████| 15281/15281 [00:08<00:00, 1738.99it/s]\n",
      "100%|██████████| 15281/15281 [00:10<00:00, 1425.53it/s]\n",
      "100%|██████████| 15281/15281 [00:08<00:00, 1742.75it/s]\n",
      "100%|██████████| 15281/15281 [00:10<00:00, 1430.48it/s]\n",
      "100%|██████████| 15281/15281 [00:08<00:00, 1740.96it/s]\n",
      "100%|██████████| 15281/15281 [00:11<00:00, 1383.69it/s]\n"
     ]
    }
   ],
   "source": [
    "from tqdm import tqdm\n",
    "session = []\n",
    "for _ in range(10):\n",
    "    for item in tqdm(data_single):\n",
    "        second = copy.deepcopy(item)\n",
    "        try:\n",
    "            one,_ = generation_multi(second,1000,4)\n",
    "        except:\n",
    "    #         print(item)\n",
    "            pass\n",
    "        session.append(one)"
   ]
  },
  {
   "cell_type": "code",
   "execution_count": 16,
   "id": "89379e92-ceb0-428e-bdcb-11803b3f26be",
   "metadata": {},
   "outputs": [],
   "source": [
    "with open('raw_data/tables.json','r') as f:\n",
    "    table = json.load(f)\n",
    "db = {}\n",
    "for item in table:\n",
    "    temp = {}\n",
    "    temp['column_names'] = item['column_names']\n",
    "    temp['column_types'] = item['column_types']\n",
    "    temp['table_names'] = item['table_names']\n",
    "    temp['column_names_original'] = item['column_names_original']\n",
    "    temp['table_names_original'] = item['table_names_original']\n",
    "    \n",
    "    table2columns = [[] for _ in range(len(item['table_names']))] # from table id to column ids list\n",
    "    for col_id, col in enumerate(item['column_names']):\n",
    "        if col_id == 0: continue\n",
    "        table2columns[col[0]].append(col_id)\n",
    "    for col,typ in zip(item['column_names'],item['column_types']):\n",
    "        col.append(typ)\n",
    "    temp['table2columns'] = table2columns\n",
    "    db[item['db_id']] = temp\n",
    "db_reverse = {}\n",
    "db_c_ori2pre = {}\n",
    "db_t_ori2pre = {}\n",
    "for k,v in db.items():\n",
    "    db_reverse[k] = {}\n",
    "    column = []\n",
    "    table = []\n",
    "    db_c_ori2pre[k] = {}\n",
    "    db_t_ori2pre[k] = {}\n",
    "    for o,c in zip(v['column_names'],v['column_names_original']):\n",
    "        column.append([o[0],o[1],c[1]])\n",
    "        db_c_ori2pre[k][c[1]] = o[1]\n",
    "    db_reverse[k]['column'] = column\n",
    "    for o,c in zip(v['table_names'],v['table_names_original']):\n",
    "        table.append([o,c])\n",
    "        db_t_ori2pre[k][c] = o\n",
    "    db_reverse[k]['table'] = table"
   ]
  },
  {
   "cell_type": "code",
   "execution_count": 18,
   "id": "bd668cdb",
   "metadata": {},
   "outputs": [],
   "source": [
    "from grakel.kernels import WeisfeilerLehman, VertexHistogram\n",
    "import sqlparse\n",
    "from sqlparse.tokens import Token\n",
    "\n",
    "def similarity_compute_(s1,s2):\n",
    "    s1_ = s1.split(\" \")\n",
    "    s2_ = s2.split(\" \")\n",
    "    l_min = min(len(s1_),len(s2_))\n",
    "    l_max = max(len(s1_),len(s2_))\n",
    "    return sum([1 if s1_[i] in s2_ else 0 for i in range(l_min)]) / l_max\n",
    "\n",
    "\n",
    "def similarity_compute(l1,l2):\n",
    "    assert len(l1)==len(l2)\n",
    "    l = sum([0 if l1[i]=='' and l2[i]=='' else 1 for i in range(len(l1))])\n",
    "    return sum([similarity_compute_(l1[i],l2[i]) if l1[i]!='' and l2[i]!='' else 0 for i in range(len(l1))]) / l\n",
    "\n",
    "\n",
    "def get_wl_score(samples_list):\n",
    "    gk = WeisfeilerLehman(n_iter=5, base_graph_kernel=VertexHistogram, normalize=True)\n",
    "    K_samples = gk.fit_transform(samples_list)\n",
    "    return K_samples[0][1:]\n",
    "\n",
    "def _pprint_tree(sql_node_label, sql_depth_label, sql_graph, tokens, max_depth=None, depth=0, f=None, _pre=''):  # Deepth First Search\n",
    "    \"\"\"Pretty-print the object tree.\"\"\"\n",
    "    token_count = len(tokens)\n",
    "    for idx, token in enumerate(tokens):\n",
    "        if token.ttype in [Token.Text.Whitespace, Token.Name]: #, Token.Punctuation, Token.Name, Token.Wildcard]:\n",
    "            continue\n",
    "        if token.value not in sql_node_label.keys():\n",
    "            sql_node_label[token.value] = len(sql_node_label.items())\n",
    "        sql_graph.append((sql_node_label[sql_depth_label[depth-1]], sql_node_label[token.value]))\n",
    "        sql_depth_label[depth] = token.value\n",
    "        cls = token._get_repr_name()\n",
    "        value = token._get_repr_value()\n",
    "\n",
    "        last = idx == (token_count - 1)\n",
    "        pre = '`- ' if last else '|- '\n",
    "\n",
    "        q = '\"' if value.startswith(\"'\") and value.endswith(\"'\") else \"'\"\n",
    "        # print(\"{_pre}{pre}{idx} {cls} {q}{value}{q}\"\n",
    "        #         .format(**locals()), file=f)\n",
    "        # print(\"{_pre}{pre}{depth} {value}\"\n",
    "        #         .format(**locals()))\n",
    "        if token.is_group and (max_depth is None or depth < max_depth):\n",
    "            parent_pre = '   ' if last else '|  '\n",
    "            _pprint_tree(sql_node_label, sql_depth_label, sql_graph, token.tokens,max_depth, depth + 1, f, _pre + parent_pre)\n",
    "\n",
    "    return sql_node_label, sql_depth_label, sql_graph\n",
    "    \n",
    "def get_struct_similarity(curt_sql, hist_sql):\n",
    "    sql_list = [curt_sql] + hist_sql\n",
    "    sql_node_label = {'root':0}\n",
    "    samples_list_ = []\n",
    "    samples_list = []\n",
    "    for sl in sql_list:\n",
    "        sample = []\n",
    "        sql_depth_label = {-1:'root'}\n",
    "        sql_graph = []\n",
    "        sql_node_label, sql_depth_label, sql_graph = _pprint_tree(sql_node_label, sql_depth_label, sql_graph, sqlparse.parse(sl)[0].tokens)\n",
    "        sample.append(set(sql_graph))\n",
    "\n",
    "        sql_edge_label = dict([(v,0) for v in set(sql_graph)])\n",
    "        sample.append(sql_edge_label)\n",
    "        samples_list_.append(sample)\n",
    "    for sl in samples_list_:\n",
    "        sl.insert(1,  dict([(idx,sql_node_label[v]) for idx, v in enumerate(sql_node_label.keys())]))\n",
    "        # sl.insert(1,  dict([(idx, 0) for idx, v in enumerate(sql_node_label.keys())]))\n",
    "        samples_list.append(sl)\n",
    "    # print(sql_depth_label)\n",
    "    # print(samples_list)\n",
    "    # print(sql_node_label)\n",
    "    wl_score = get_wl_score(samples_list)\n",
    "    return list(wl_score)\n",
    "\n",
    "\n",
    "# score = get_struct_similarity(sql, hist_sql)\n",
    "# print(score)\n",
    "def compute_content(cur_label,his_label):\n",
    "    result = []\n",
    "    for item in his_label:\n",
    "        result.append(similarity_compute(cur_label,item))\n",
    "    return result"
   ]
  },
  {
   "cell_type": "code",
   "execution_count": 19,
   "id": "2ef0e9f2-982c-41cd-9039-ca34ac52151c",
   "metadata": {
    "tags": []
   },
   "outputs": [
    {
     "name": "stderr",
     "output_type": "stream",
     "text": [
      "  0%|          | 243/152810 [00:17<2:32:37, 16.66it/s]"
     ]
    },
    {
     "name": "stdout",
     "output_type": "stream",
     "text": [
      "239\n"
     ]
    },
    {
     "name": "stderr",
     "output_type": "stream",
     "text": [
      "  1%|          | 1371/152810 [01:41<1:54:50, 21.98it/s]"
     ]
    },
    {
     "name": "stdout",
     "output_type": "stream",
     "text": [
      "1367\n"
     ]
    },
    {
     "name": "stderr",
     "output_type": "stream",
     "text": [
      "  1%|          | 1395/152810 [01:43<2:08:13, 19.68it/s]"
     ]
    },
    {
     "name": "stdout",
     "output_type": "stream",
     "text": [
      "1391\n"
     ]
    },
    {
     "name": "stderr",
     "output_type": "stream",
     "text": [
      "  2%|▏         | 2593/152810 [03:10<3:27:46, 12.05it/s]"
     ]
    },
    {
     "name": "stdout",
     "output_type": "stream",
     "text": [
      "2590\n"
     ]
    },
    {
     "name": "stderr",
     "output_type": "stream",
     "text": [
      "  2%|▏         | 2599/152810 [03:11<3:03:08, 13.67it/s]"
     ]
    },
    {
     "name": "stdout",
     "output_type": "stream",
     "text": [
      "2597\n"
     ]
    },
    {
     "name": "stderr",
     "output_type": "stream",
     "text": [
      "  2%|▏         | 2655/152810 [03:15<3:15:11, 12.82it/s]"
     ]
    },
    {
     "name": "stdout",
     "output_type": "stream",
     "text": [
      "2653\n"
     ]
    },
    {
     "name": "stderr",
     "output_type": "stream",
     "text": [
      "  2%|▏         | 2712/152810 [03:19<2:24:45, 17.28it/s]"
     ]
    },
    {
     "name": "stdout",
     "output_type": "stream",
     "text": [
      "2710\n"
     ]
    },
    {
     "name": "stderr",
     "output_type": "stream",
     "text": [
      "  2%|▏         | 2748/152810 [03:22<2:49:37, 14.74it/s]"
     ]
    },
    {
     "name": "stdout",
     "output_type": "stream",
     "text": [
      "2745\n"
     ]
    },
    {
     "name": "stderr",
     "output_type": "stream",
     "text": [
      "  2%|▏         | 2868/152810 [03:31<2:41:33, 15.47it/s]"
     ]
    },
    {
     "name": "stdout",
     "output_type": "stream",
     "text": [
      "2866\n"
     ]
    },
    {
     "name": "stderr",
     "output_type": "stream",
     "text": [
      "  2%|▏         | 2960/152810 [03:38<2:37:22, 15.87it/s]"
     ]
    },
    {
     "name": "stdout",
     "output_type": "stream",
     "text": [
      "2957\n"
     ]
    },
    {
     "name": "stderr",
     "output_type": "stream",
     "text": [
      "  3%|▎         | 3941/152810 [05:15<2:27:57, 16.77it/s]"
     ]
    },
    {
     "name": "stdout",
     "output_type": "stream",
     "text": [
      "3939\n"
     ]
    },
    {
     "name": "stderr",
     "output_type": "stream",
     "text": [
      "  4%|▍         | 5850/152810 [07:31<2:22:51, 17.15it/s]"
     ]
    },
    {
     "name": "stdout",
     "output_type": "stream",
     "text": [
      "5846\n"
     ]
    },
    {
     "name": "stderr",
     "output_type": "stream",
     "text": [
      "  4%|▍         | 6417/152810 [08:13<2:20:35, 17.35it/s]"
     ]
    },
    {
     "name": "stdout",
     "output_type": "stream",
     "text": [
      "6415\n"
     ]
    },
    {
     "name": "stderr",
     "output_type": "stream",
     "text": [
      "  5%|▍         | 7325/152810 [09:19<2:29:39, 16.20it/s]"
     ]
    },
    {
     "name": "stdout",
     "output_type": "stream",
     "text": [
      "7323\n"
     ]
    },
    {
     "name": "stderr",
     "output_type": "stream",
     "text": [
      "  5%|▍         | 7354/152810 [09:21<2:40:13, 15.13it/s]"
     ]
    },
    {
     "name": "stdout",
     "output_type": "stream",
     "text": [
      "7351\n"
     ]
    },
    {
     "name": "stderr",
     "output_type": "stream",
     "text": [
      "  5%|▌         | 8033/152810 [10:11<2:31:53, 15.89it/s]"
     ]
    },
    {
     "name": "stdout",
     "output_type": "stream",
     "text": [
      "8030\n"
     ]
    },
    {
     "name": "stderr",
     "output_type": "stream",
     "text": [
      "  5%|▌         | 8077/152810 [10:15<2:42:06, 14.88it/s]"
     ]
    },
    {
     "name": "stdout",
     "output_type": "stream",
     "text": [
      "8073\n"
     ]
    },
    {
     "name": "stderr",
     "output_type": "stream",
     "text": [
      "  6%|▌         | 8418/152810 [10:40<1:56:17, 20.69it/s]"
     ]
    },
    {
     "name": "stdout",
     "output_type": "stream",
     "text": [
      "8412\n",
      "8414\n",
      "8415\n"
     ]
    },
    {
     "name": "stderr",
     "output_type": "stream",
     "text": [
      "  6%|▌         | 8865/152810 [11:13<2:56:42, 13.58it/s]"
     ]
    },
    {
     "name": "stdout",
     "output_type": "stream",
     "text": [
      "8862\n"
     ]
    },
    {
     "name": "stderr",
     "output_type": "stream",
     "text": [
      "  6%|▌         | 9088/152810 [11:30<2:15:23, 17.69it/s]"
     ]
    },
    {
     "name": "stdout",
     "output_type": "stream",
     "text": [
      "9085\n",
      "9086\n"
     ]
    },
    {
     "name": "stderr",
     "output_type": "stream",
     "text": [
      "  7%|▋         | 11228/152810 [14:03<1:48:33, 21.74it/s]"
     ]
    },
    {
     "name": "stdout",
     "output_type": "stream",
     "text": [
      "11223\n",
      "11226\n",
      "11227\n"
     ]
    },
    {
     "name": "stderr",
     "output_type": "stream",
     "text": [
      "  7%|▋         | 11237/152810 [14:04<2:06:02, 18.72it/s]"
     ]
    },
    {
     "name": "stdout",
     "output_type": "stream",
     "text": [
      "11232\n"
     ]
    },
    {
     "name": "stderr",
     "output_type": "stream",
     "text": [
      "  7%|▋         | 11243/152810 [14:04<1:56:52, 20.19it/s]"
     ]
    },
    {
     "name": "stdout",
     "output_type": "stream",
     "text": [
      "11239\n"
     ]
    },
    {
     "name": "stderr",
     "output_type": "stream",
     "text": [
      "  9%|▉         | 13645/152810 [17:00<2:16:47, 16.96it/s] "
     ]
    },
    {
     "name": "stdout",
     "output_type": "stream",
     "text": [
      "13642\n",
      "13643\n"
     ]
    },
    {
     "name": "stderr",
     "output_type": "stream",
     "text": [
      "  9%|▉         | 13651/152810 [17:01<2:26:35, 15.82it/s]"
     ]
    },
    {
     "name": "stdout",
     "output_type": "stream",
     "text": [
      "13649\n"
     ]
    },
    {
     "name": "stderr",
     "output_type": "stream",
     "text": [
      "  9%|▉         | 13658/152810 [17:01<2:17:37, 16.85it/s]"
     ]
    },
    {
     "name": "stdout",
     "output_type": "stream",
     "text": [
      "13654\n"
     ]
    },
    {
     "name": "stderr",
     "output_type": "stream",
     "text": [
      "  9%|▉         | 13665/152810 [17:01<2:10:08, 17.82it/s]"
     ]
    },
    {
     "name": "stdout",
     "output_type": "stream",
     "text": [
      "13661\n",
      "13663\n"
     ]
    },
    {
     "name": "stderr",
     "output_type": "stream",
     "text": [
      "  9%|▉         | 14267/152810 [17:44<2:55:22, 13.17it/s]"
     ]
    },
    {
     "name": "stdout",
     "output_type": "stream",
     "text": [
      "14265\n"
     ]
    },
    {
     "name": "stderr",
     "output_type": "stream",
     "text": [
      "  9%|▉         | 14316/152810 [17:48<2:27:01, 15.70it/s]"
     ]
    },
    {
     "name": "stdout",
     "output_type": "stream",
     "text": [
      "14312\n",
      "14313\n"
     ]
    },
    {
     "name": "stderr",
     "output_type": "stream",
     "text": [
      "  9%|▉         | 14448/152810 [17:57<2:02:19, 18.85it/s]"
     ]
    },
    {
     "name": "stdout",
     "output_type": "stream",
     "text": [
      "14444\n"
     ]
    },
    {
     "name": "stderr",
     "output_type": "stream",
     "text": [
      " 10%|▉         | 15094/152810 [18:39<2:08:57, 17.80it/s]"
     ]
    },
    {
     "name": "stdout",
     "output_type": "stream",
     "text": [
      "15091\n",
      "15092\n"
     ]
    },
    {
     "name": "stderr",
     "output_type": "stream",
     "text": [
      " 11%|█         | 16656/152810 [20:33<1:39:09, 22.89it/s]"
     ]
    },
    {
     "name": "stdout",
     "output_type": "stream",
     "text": [
      "16653\n"
     ]
    },
    {
     "name": "stderr",
     "output_type": "stream",
     "text": [
      " 12%|█▏        | 18028/152810 [22:12<2:47:52, 13.38it/s]"
     ]
    },
    {
     "name": "stdout",
     "output_type": "stream",
     "text": [
      "18026\n"
     ]
    },
    {
     "name": "stderr",
     "output_type": "stream",
     "text": [
      " 12%|█▏        | 18121/152810 [22:18<2:03:29, 18.18it/s]"
     ]
    },
    {
     "name": "stdout",
     "output_type": "stream",
     "text": [
      "18116\n"
     ]
    },
    {
     "name": "stderr",
     "output_type": "stream",
     "text": [
      " 13%|█▎        | 20026/152810 [25:01<2:08:50, 17.18it/s]"
     ]
    },
    {
     "name": "stdout",
     "output_type": "stream",
     "text": [
      "20023\n"
     ]
    },
    {
     "name": "stderr",
     "output_type": "stream",
     "text": [
      " 14%|█▍        | 21141/152810 [26:20<1:58:48, 18.47it/s]"
     ]
    },
    {
     "name": "stdout",
     "output_type": "stream",
     "text": [
      "21139\n"
     ]
    },
    {
     "name": "stderr",
     "output_type": "stream",
     "text": [
      " 14%|█▍        | 21162/152810 [26:21<2:30:37, 14.57it/s]"
     ]
    },
    {
     "name": "stdout",
     "output_type": "stream",
     "text": [
      "21160\n"
     ]
    },
    {
     "name": "stderr",
     "output_type": "stream",
     "text": [
      " 15%|█▍        | 22434/152810 [27:51<2:02:56, 17.67it/s]"
     ]
    },
    {
     "name": "stdout",
     "output_type": "stream",
     "text": [
      "22432\n"
     ]
    },
    {
     "name": "stderr",
     "output_type": "stream",
     "text": [
      " 15%|█▍        | 22609/152810 [28:04<1:55:47, 18.74it/s]"
     ]
    },
    {
     "name": "stdout",
     "output_type": "stream",
     "text": [
      "22604\n"
     ]
    },
    {
     "name": "stderr",
     "output_type": "stream",
     "text": [
      " 15%|█▌        | 23137/152810 [28:42<2:35:33, 13.89it/s]"
     ]
    },
    {
     "name": "stdout",
     "output_type": "stream",
     "text": [
      "23134\n"
     ]
    },
    {
     "name": "stderr",
     "output_type": "stream",
     "text": [
      " 15%|█▌        | 23315/152810 [28:55<2:08:13, 16.83it/s]"
     ]
    },
    {
     "name": "stdout",
     "output_type": "stream",
     "text": [
      "23311\n"
     ]
    },
    {
     "name": "stderr",
     "output_type": "stream",
     "text": [
      " 15%|█▌        | 23357/152810 [28:58<2:25:41, 14.81it/s]"
     ]
    },
    {
     "name": "stdout",
     "output_type": "stream",
     "text": [
      "23355\n"
     ]
    },
    {
     "name": "stderr",
     "output_type": "stream",
     "text": [
      " 16%|█▌        | 23695/152810 [29:22<2:09:52, 16.57it/s]"
     ]
    },
    {
     "name": "stdout",
     "output_type": "stream",
     "text": [
      "23693\n"
     ]
    },
    {
     "name": "stderr",
     "output_type": "stream",
     "text": [
      " 16%|█▌        | 24146/152810 [29:56<2:15:19, 15.85it/s]"
     ]
    },
    {
     "name": "stdout",
     "output_type": "stream",
     "text": [
      "24143\n"
     ]
    },
    {
     "name": "stderr",
     "output_type": "stream",
     "text": [
      " 17%|█▋        | 25941/152810 [32:03<2:32:12, 13.89it/s]"
     ]
    },
    {
     "name": "stdout",
     "output_type": "stream",
     "text": [
      "25938\n"
     ]
    },
    {
     "name": "stderr",
     "output_type": "stream",
     "text": [
      " 17%|█▋        | 26512/152810 [32:45<2:16:20, 15.44it/s]"
     ]
    },
    {
     "name": "stdout",
     "output_type": "stream",
     "text": [
      "26508\n"
     ]
    },
    {
     "name": "stderr",
     "output_type": "stream",
     "text": [
      " 17%|█▋        | 26528/152810 [32:46<1:59:27, 17.62it/s]"
     ]
    },
    {
     "name": "stdout",
     "output_type": "stream",
     "text": [
      "26523\n"
     ]
    },
    {
     "name": "stderr",
     "output_type": "stream",
     "text": [
      " 19%|█▊        | 28418/152810 [35:01<1:39:57, 20.74it/s]"
     ]
    },
    {
     "name": "stdout",
     "output_type": "stream",
     "text": [
      "28414\n"
     ]
    },
    {
     "name": "stderr",
     "output_type": "stream",
     "text": [
      " 19%|█▉        | 28918/152810 [35:39<1:57:08, 17.63it/s]"
     ]
    },
    {
     "name": "stdout",
     "output_type": "stream",
     "text": [
      "28915\n",
      "28916\n"
     ]
    },
    {
     "name": "stderr",
     "output_type": "stream",
     "text": [
      " 19%|█▉        | 28929/152810 [35:39<1:47:09, 19.27it/s]"
     ]
    },
    {
     "name": "stdout",
     "output_type": "stream",
     "text": [
      "28926\n",
      "28929\n"
     ]
    },
    {
     "name": "stderr",
     "output_type": "stream",
     "text": [
      " 19%|█▉        | 28938/152810 [35:40<1:53:51, 18.13it/s]"
     ]
    },
    {
     "name": "stdout",
     "output_type": "stream",
     "text": [
      "28936\n"
     ]
    },
    {
     "name": "stderr",
     "output_type": "stream",
     "text": [
      " 19%|█▉        | 29564/152810 [36:24<2:41:32, 12.72it/s]"
     ]
    },
    {
     "name": "stdout",
     "output_type": "stream",
     "text": [
      "29562\n"
     ]
    },
    {
     "name": "stderr",
     "output_type": "stream",
     "text": [
      " 19%|█▉        | 29592/152810 [36:26<2:49:43, 12.10it/s]"
     ]
    },
    {
     "name": "stdout",
     "output_type": "stream",
     "text": [
      "29589\n"
     ]
    },
    {
     "name": "stderr",
     "output_type": "stream",
     "text": [
      " 19%|█▉        | 29596/152810 [36:26<2:22:05, 14.45it/s]"
     ]
    },
    {
     "name": "stdout",
     "output_type": "stream",
     "text": [
      "29593\n"
     ]
    },
    {
     "name": "stderr",
     "output_type": "stream",
     "text": [
      " 20%|█▉        | 29873/152810 [36:44<1:45:34, 19.41it/s]"
     ]
    },
    {
     "name": "stdout",
     "output_type": "stream",
     "text": [
      "29870\n"
     ]
    },
    {
     "name": "stderr",
     "output_type": "stream",
     "text": [
      " 20%|█▉        | 30374/152810 [37:16<1:45:45, 19.30it/s]"
     ]
    },
    {
     "name": "stdout",
     "output_type": "stream",
     "text": [
      "30373\n"
     ]
    },
    {
     "name": "stderr",
     "output_type": "stream",
     "text": [
      " 21%|██▏       | 32600/152810 [40:00<2:16:25, 14.68it/s] "
     ]
    },
    {
     "name": "stdout",
     "output_type": "stream",
     "text": [
      "32596\n"
     ]
    },
    {
     "name": "stderr",
     "output_type": "stream",
     "text": [
      " 22%|██▏       | 33275/152810 [40:51<2:13:39, 14.91it/s]"
     ]
    },
    {
     "name": "stdout",
     "output_type": "stream",
     "text": [
      "33272\n"
     ]
    },
    {
     "name": "stderr",
     "output_type": "stream",
     "text": [
      " 22%|██▏       | 33308/152810 [40:54<2:11:40, 15.13it/s]"
     ]
    },
    {
     "name": "stdout",
     "output_type": "stream",
     "text": [
      "33307\n"
     ]
    },
    {
     "name": "stderr",
     "output_type": "stream",
     "text": [
      " 22%|██▏       | 33399/152810 [41:01<2:08:04, 15.54it/s]"
     ]
    },
    {
     "name": "stdout",
     "output_type": "stream",
     "text": [
      "33397\n"
     ]
    },
    {
     "name": "stderr",
     "output_type": "stream",
     "text": [
      " 23%|██▎       | 35591/152810 [44:06<1:52:42, 17.33it/s]"
     ]
    },
    {
     "name": "stdout",
     "output_type": "stream",
     "text": [
      "35587\n"
     ]
    },
    {
     "name": "stderr",
     "output_type": "stream",
     "text": [
      " 23%|██▎       | 35631/152810 [44:08<1:53:22, 17.22it/s]"
     ]
    },
    {
     "name": "stdout",
     "output_type": "stream",
     "text": [
      "35628\n"
     ]
    },
    {
     "name": "stderr",
     "output_type": "stream",
     "text": [
      " 24%|██▍       | 36338/152810 [44:59<1:49:03, 17.80it/s]"
     ]
    },
    {
     "name": "stdout",
     "output_type": "stream",
     "text": [
      "36335\n"
     ]
    },
    {
     "name": "stderr",
     "output_type": "stream",
     "text": [
      " 24%|██▍       | 36423/152810 [45:05<1:55:41, 16.77it/s]"
     ]
    },
    {
     "name": "stdout",
     "output_type": "stream",
     "text": [
      "36419\n",
      "36420\n"
     ]
    },
    {
     "name": "stderr",
     "output_type": "stream",
     "text": [
      " 25%|██▍       | 37599/152810 [46:30<1:42:55, 18.66it/s]"
     ]
    },
    {
     "name": "stdout",
     "output_type": "stream",
     "text": [
      "37596\n"
     ]
    },
    {
     "name": "stderr",
     "output_type": "stream",
     "text": [
      " 25%|██▌       | 38596/152810 [47:43<1:56:03, 16.40it/s]"
     ]
    },
    {
     "name": "stdout",
     "output_type": "stream",
     "text": [
      "38591\n"
     ]
    },
    {
     "name": "stderr",
     "output_type": "stream",
     "text": [
      " 26%|██▌       | 38979/152810 [48:11<2:04:13, 15.27it/s]"
     ]
    },
    {
     "name": "stdout",
     "output_type": "stream",
     "text": [
      "38977\n"
     ]
    },
    {
     "name": "stderr",
     "output_type": "stream",
     "text": [
      " 26%|██▌       | 39425/152810 [48:44<2:10:32, 14.48it/s]"
     ]
    },
    {
     "name": "stdout",
     "output_type": "stream",
     "text": [
      "39422\n"
     ]
    },
    {
     "name": "stderr",
     "output_type": "stream",
     "text": [
      " 26%|██▌       | 39740/152810 [49:09<1:57:08, 16.09it/s]"
     ]
    },
    {
     "name": "stdout",
     "output_type": "stream",
     "text": [
      "39736\n",
      "39737\n"
     ]
    },
    {
     "name": "stderr",
     "output_type": "stream",
     "text": [
      " 27%|██▋       | 41789/152810 [51:36<1:39:15, 18.64it/s]"
     ]
    },
    {
     "name": "stdout",
     "output_type": "stream",
     "text": [
      "41786\n",
      "41787\n",
      "41789\n"
     ]
    },
    {
     "name": "stderr",
     "output_type": "stream",
     "text": [
      " 27%|██▋       | 41809/152810 [51:38<1:42:33, 18.04it/s]"
     ]
    },
    {
     "name": "stdout",
     "output_type": "stream",
     "text": [
      "41805\n"
     ]
    },
    {
     "name": "stderr",
     "output_type": "stream",
     "text": [
      " 27%|██▋       | 41867/152810 [51:42<2:28:24, 12.46it/s]"
     ]
    },
    {
     "name": "stdout",
     "output_type": "stream",
     "text": [
      "41866\n"
     ]
    },
    {
     "name": "stderr",
     "output_type": "stream",
     "text": [
      " 29%|██▉       | 44202/152810 [54:28<1:39:59, 18.10it/s]"
     ]
    },
    {
     "name": "stdout",
     "output_type": "stream",
     "text": [
      "44197\n"
     ]
    },
    {
     "name": "stderr",
     "output_type": "stream",
     "text": [
      " 29%|██▉       | 44218/152810 [54:30<1:44:30, 17.32it/s]"
     ]
    },
    {
     "name": "stdout",
     "output_type": "stream",
     "text": [
      "44213\n",
      "44217\n"
     ]
    },
    {
     "name": "stderr",
     "output_type": "stream",
     "text": [
      " 29%|██▉       | 44876/152810 [55:15<2:08:19, 14.02it/s]"
     ]
    },
    {
     "name": "stdout",
     "output_type": "stream",
     "text": [
      "44874\n"
     ]
    },
    {
     "name": "stderr",
     "output_type": "stream",
     "text": [
      " 30%|██▉       | 45154/152810 [55:34<1:36:00, 18.69it/s]"
     ]
    },
    {
     "name": "stdout",
     "output_type": "stream",
     "text": [
      "45151\n"
     ]
    },
    {
     "name": "stderr",
     "output_type": "stream",
     "text": [
      " 30%|███       | 46010/152810 [56:31<1:44:33, 17.02it/s]"
     ]
    },
    {
     "name": "stdout",
     "output_type": "stream",
     "text": [
      "46008\n"
     ]
    },
    {
     "name": "stderr",
     "output_type": "stream",
     "text": [
      " 31%|███▏      | 47852/152810 [58:46<1:56:34, 15.01it/s]"
     ]
    },
    {
     "name": "stdout",
     "output_type": "stream",
     "text": [
      "47850\n"
     ]
    },
    {
     "name": "stderr",
     "output_type": "stream",
     "text": [
      " 31%|███▏      | 47879/152810 [58:48<1:52:38, 15.52it/s]"
     ]
    },
    {
     "name": "stdout",
     "output_type": "stream",
     "text": [
      "47877\n"
     ]
    },
    {
     "name": "stderr",
     "output_type": "stream",
     "text": [
      " 32%|███▏      | 48499/152810 [59:34<1:49:49, 15.83it/s]"
     ]
    },
    {
     "name": "stdout",
     "output_type": "stream",
     "text": [
      "48496\n"
     ]
    },
    {
     "name": "stderr",
     "output_type": "stream",
     "text": [
      " 32%|███▏      | 48556/152810 [59:39<1:47:12, 16.21it/s]"
     ]
    },
    {
     "name": "stdout",
     "output_type": "stream",
     "text": [
      "48553\n"
     ]
    },
    {
     "name": "stderr",
     "output_type": "stream",
     "text": [
      " 32%|███▏      | 48682/152810 [59:48<1:40:27, 17.28it/s]"
     ]
    },
    {
     "name": "stdout",
     "output_type": "stream",
     "text": [
      "48678\n"
     ]
    },
    {
     "name": "stderr",
     "output_type": "stream",
     "text": [
      " 32%|███▏      | 48801/152810 [59:57<1:36:55, 17.88it/s]"
     ]
    },
    {
     "name": "stdout",
     "output_type": "stream",
     "text": [
      "48800\n"
     ]
    },
    {
     "name": "stderr",
     "output_type": "stream",
     "text": [
      " 32%|███▏      | 49508/152810 [1:01:16<1:49:48, 15.68it/s]"
     ]
    },
    {
     "name": "stdout",
     "output_type": "stream",
     "text": [
      "49504\n"
     ]
    },
    {
     "name": "stderr",
     "output_type": "stream",
     "text": [
      " 33%|███▎      | 50248/152810 [1:02:09<2:03:55, 13.79it/s]"
     ]
    },
    {
     "name": "stdout",
     "output_type": "stream",
     "text": [
      "50246\n"
     ]
    },
    {
     "name": "stderr",
     "output_type": "stream",
     "text": [
      " 34%|███▎      | 51205/152810 [1:03:17<1:53:21, 14.94it/s]"
     ]
    },
    {
     "name": "stdout",
     "output_type": "stream",
     "text": [
      "51203\n"
     ]
    },
    {
     "name": "stderr",
     "output_type": "stream",
     "text": [
      " 34%|███▍      | 51703/152810 [1:03:51<1:21:43, 20.62it/s]"
     ]
    },
    {
     "name": "stdout",
     "output_type": "stream",
     "text": [
      "51701\n"
     ]
    },
    {
     "name": "stderr",
     "output_type": "stream",
     "text": [
      " 34%|███▍      | 51830/152810 [1:04:00<2:01:29, 13.85it/s]"
     ]
    },
    {
     "name": "stdout",
     "output_type": "stream",
     "text": [
      "51827\n"
     ]
    },
    {
     "name": "stderr",
     "output_type": "stream",
     "text": [
      " 34%|███▍      | 51997/152810 [1:04:12<1:55:35, 14.54it/s]"
     ]
    },
    {
     "name": "stdout",
     "output_type": "stream",
     "text": [
      "51993\n"
     ]
    },
    {
     "name": "stderr",
     "output_type": "stream",
     "text": [
      " 35%|███▍      | 52879/152810 [1:05:15<1:47:22, 15.51it/s]"
     ]
    },
    {
     "name": "stdout",
     "output_type": "stream",
     "text": [
      "52876\n"
     ]
    },
    {
     "name": "stderr",
     "output_type": "stream",
     "text": [
      " 35%|███▍      | 53169/152810 [1:05:36<1:34:26, 17.58it/s]"
     ]
    },
    {
     "name": "stdout",
     "output_type": "stream",
     "text": [
      "53166\n"
     ]
    },
    {
     "name": "stderr",
     "output_type": "stream",
     "text": [
      " 35%|███▍      | 53213/152810 [1:05:39<1:53:20, 14.65it/s]"
     ]
    },
    {
     "name": "stdout",
     "output_type": "stream",
     "text": [
      "53211\n"
     ]
    },
    {
     "name": "stderr",
     "output_type": "stream",
     "text": [
      " 35%|███▌      | 53917/152810 [1:06:30<1:37:10, 16.96it/s]"
     ]
    },
    {
     "name": "stdout",
     "output_type": "stream",
     "text": [
      "53915\n"
     ]
    },
    {
     "name": "stderr",
     "output_type": "stream",
     "text": [
      " 36%|███▌      | 54257/152810 [1:07:01<1:49:16, 15.03it/s] "
     ]
    },
    {
     "name": "stdout",
     "output_type": "stream",
     "text": [
      "54255\n"
     ]
    },
    {
     "name": "stderr",
     "output_type": "stream",
     "text": [
      " 36%|███▌      | 54708/152810 [1:07:34<1:39:27, 16.44it/s]"
     ]
    },
    {
     "name": "stdout",
     "output_type": "stream",
     "text": [
      "54704\n"
     ]
    },
    {
     "name": "stderr",
     "output_type": "stream",
     "text": [
      " 36%|███▌      | 55021/152810 [1:07:58<1:39:19, 16.41it/s]"
     ]
    },
    {
     "name": "stdout",
     "output_type": "stream",
     "text": [
      "55017\n",
      "55018\n",
      "55019\n"
     ]
    },
    {
     "name": "stderr",
     "output_type": "stream",
     "text": [
      " 36%|███▌      | 55059/152810 [1:08:01<1:45:46, 15.40it/s]"
     ]
    },
    {
     "name": "stdout",
     "output_type": "stream",
     "text": [
      "55056\n"
     ]
    },
    {
     "name": "stderr",
     "output_type": "stream",
     "text": [
      " 37%|███▋      | 57075/152810 [1:10:24<1:25:43, 18.61it/s]"
     ]
    },
    {
     "name": "stdout",
     "output_type": "stream",
     "text": [
      "57070\n",
      "57071\n",
      "57074\n"
     ]
    },
    {
     "name": "stderr",
     "output_type": "stream",
     "text": [
      " 37%|███▋      | 57083/152810 [1:10:25<1:26:50, 18.37it/s]"
     ]
    },
    {
     "name": "stdout",
     "output_type": "stream",
     "text": [
      "57081\n",
      "57084\n"
     ]
    },
    {
     "name": "stderr",
     "output_type": "stream",
     "text": [
      " 37%|███▋      | 57157/152810 [1:10:30<2:04:48, 12.77it/s]"
     ]
    },
    {
     "name": "stdout",
     "output_type": "stream",
     "text": [
      "57156\n"
     ]
    },
    {
     "name": "stderr",
     "output_type": "stream",
     "text": [
      " 39%|███▉      | 59480/152810 [1:13:16<1:37:55, 15.88it/s]"
     ]
    },
    {
     "name": "stdout",
     "output_type": "stream",
     "text": [
      "59477\n"
     ]
    },
    {
     "name": "stderr",
     "output_type": "stream",
     "text": [
      " 39%|███▉      | 59485/152810 [1:13:17<1:26:38, 17.95it/s]"
     ]
    },
    {
     "name": "stdout",
     "output_type": "stream",
     "text": [
      "59482\n",
      "59485\n"
     ]
    },
    {
     "name": "stderr",
     "output_type": "stream",
     "text": [
      " 39%|███▉      | 59500/152810 [1:13:18<1:47:08, 14.52it/s]"
     ]
    },
    {
     "name": "stdout",
     "output_type": "stream",
     "text": [
      "59497\n"
     ]
    },
    {
     "name": "stderr",
     "output_type": "stream",
     "text": [
      " 39%|███▉      | 59505/152810 [1:13:18<1:32:36, 16.79it/s]"
     ]
    },
    {
     "name": "stdout",
     "output_type": "stream",
     "text": [
      "59501\n"
     ]
    },
    {
     "name": "stderr",
     "output_type": "stream",
     "text": [
      " 39%|███▉      | 60119/152810 [1:14:00<2:15:56, 11.36it/s]"
     ]
    },
    {
     "name": "stdout",
     "output_type": "stream",
     "text": [
      "60118\n"
     ]
    },
    {
     "name": "stderr",
     "output_type": "stream",
     "text": [
      " 39%|███▉      | 60129/152810 [1:14:01<2:04:42, 12.39it/s]"
     ]
    },
    {
     "name": "stdout",
     "output_type": "stream",
     "text": [
      "60125\n",
      "60126\n"
     ]
    },
    {
     "name": "stderr",
     "output_type": "stream",
     "text": [
      " 40%|███▉      | 60432/152810 [1:14:22<1:13:54, 20.83it/s]"
     ]
    },
    {
     "name": "stdout",
     "output_type": "stream",
     "text": [
      "60427\n"
     ]
    },
    {
     "name": "stderr",
     "output_type": "stream",
     "text": [
      " 40%|███▉      | 60489/152810 [1:14:25<1:16:23, 20.14it/s]"
     ]
    },
    {
     "name": "stdout",
     "output_type": "stream",
     "text": [
      "60486\n"
     ]
    },
    {
     "name": "stderr",
     "output_type": "stream",
     "text": [
      " 40%|███▉      | 60938/152810 [1:14:55<1:24:54, 18.04it/s]"
     ]
    },
    {
     "name": "stdout",
     "output_type": "stream",
     "text": [
      "60934\n"
     ]
    },
    {
     "name": "stderr",
     "output_type": "stream",
     "text": [
      " 40%|████      | 61349/152810 [1:15:24<1:46:07, 14.36it/s]"
     ]
    },
    {
     "name": "stdout",
     "output_type": "stream",
     "text": [
      "61346\n"
     ]
    },
    {
     "name": "stderr",
     "output_type": "stream",
     "text": [
      " 41%|████      | 62506/152810 [1:16:50<1:02:53, 23.93it/s]"
     ]
    },
    {
     "name": "stdout",
     "output_type": "stream",
     "text": [
      "62504\n"
     ]
    },
    {
     "name": "stderr",
     "output_type": "stream",
     "text": [
      " 41%|████      | 62590/152810 [1:16:55<1:28:24, 17.01it/s]"
     ]
    },
    {
     "name": "stdout",
     "output_type": "stream",
     "text": [
      "62586\n"
     ]
    },
    {
     "name": "stderr",
     "output_type": "stream",
     "text": [
      " 42%|████▏     | 63872/152810 [1:18:29<1:47:41, 13.76it/s]"
     ]
    },
    {
     "name": "stdout",
     "output_type": "stream",
     "text": [
      "63869\n"
     ]
    },
    {
     "name": "stderr",
     "output_type": "stream",
     "text": [
      " 42%|████▏     | 63896/152810 [1:18:31<1:55:19, 12.85it/s]"
     ]
    },
    {
     "name": "stdout",
     "output_type": "stream",
     "text": [
      "63894\n"
     ]
    },
    {
     "name": "stderr",
     "output_type": "stream",
     "text": [
      " 43%|████▎     | 66194/152810 [1:21:43<1:25:49, 16.82it/s]"
     ]
    },
    {
     "name": "stdout",
     "output_type": "stream",
     "text": [
      "66190\n"
     ]
    },
    {
     "name": "stderr",
     "output_type": "stream",
     "text": [
      " 44%|████▍     | 67837/152810 [1:23:43<1:33:36, 15.13it/s]"
     ]
    },
    {
     "name": "stdout",
     "output_type": "stream",
     "text": [
      "67834\n"
     ]
    },
    {
     "name": "stderr",
     "output_type": "stream",
     "text": [
      " 45%|████▍     | 68160/152810 [1:24:05<1:25:00, 16.60it/s]"
     ]
    },
    {
     "name": "stdout",
     "output_type": "stream",
     "text": [
      "68157\n",
      "68159\n"
     ]
    },
    {
     "name": "stderr",
     "output_type": "stream",
     "text": [
      " 45%|████▌     | 69201/152810 [1:25:20<1:11:33, 19.47it/s]"
     ]
    },
    {
     "name": "stdout",
     "output_type": "stream",
     "text": [
      "69197\n",
      "69198\n"
     ]
    },
    {
     "name": "stderr",
     "output_type": "stream",
     "text": [
      " 46%|████▌     | 69539/152810 [1:25:45<1:35:20, 14.56it/s]"
     ]
    },
    {
     "name": "stdout",
     "output_type": "stream",
     "text": [
      "69536\n"
     ]
    },
    {
     "name": "stderr",
     "output_type": "stream",
     "text": [
      " 46%|████▌     | 69760/152810 [1:26:01<1:35:18, 14.52it/s]"
     ]
    },
    {
     "name": "stdout",
     "output_type": "stream",
     "text": [
      "69757\n"
     ]
    },
    {
     "name": "stderr",
     "output_type": "stream",
     "text": [
      " 46%|████▌     | 69988/152810 [1:26:18<1:23:33, 16.52it/s]"
     ]
    },
    {
     "name": "stdout",
     "output_type": "stream",
     "text": [
      "69984\n"
     ]
    },
    {
     "name": "stderr",
     "output_type": "stream",
     "text": [
      " 47%|████▋     | 72352/152810 [1:29:09<1:08:01, 19.71it/s]"
     ]
    },
    {
     "name": "stdout",
     "output_type": "stream",
     "text": [
      "72348\n",
      "72351\n"
     ]
    },
    {
     "name": "stderr",
     "output_type": "stream",
     "text": [
      " 47%|████▋     | 72359/152810 [1:29:10<1:08:58, 19.44it/s]"
     ]
    },
    {
     "name": "stdout",
     "output_type": "stream",
     "text": [
      "72355\n",
      "72356\n"
     ]
    },
    {
     "name": "stderr",
     "output_type": "stream",
     "text": [
      " 47%|████▋     | 72369/152810 [1:29:10<1:10:22, 19.05it/s]"
     ]
    },
    {
     "name": "stdout",
     "output_type": "stream",
     "text": [
      "72364\n"
     ]
    },
    {
     "name": "stderr",
     "output_type": "stream",
     "text": [
      " 48%|████▊     | 72961/152810 [1:29:54<1:05:09, 20.43it/s]"
     ]
    },
    {
     "name": "stdout",
     "output_type": "stream",
     "text": [
      "72957\n"
     ]
    },
    {
     "name": "stderr",
     "output_type": "stream",
     "text": [
      " 49%|████▉     | 74761/152810 [1:32:03<1:08:47, 18.91it/s]"
     ]
    },
    {
     "name": "stdout",
     "output_type": "stream",
     "text": [
      "74757\n",
      "74759\n"
     ]
    },
    {
     "name": "stderr",
     "output_type": "stream",
     "text": [
      " 49%|████▉     | 74776/152810 [1:32:03<1:17:35, 16.76it/s]"
     ]
    },
    {
     "name": "stdout",
     "output_type": "stream",
     "text": [
      "74773\n"
     ]
    },
    {
     "name": "stderr",
     "output_type": "stream",
     "text": [
      " 49%|████▉     | 75408/152810 [1:32:48<1:36:27, 13.37it/s]"
     ]
    },
    {
     "name": "stdout",
     "output_type": "stream",
     "text": [
      "75406\n",
      "75407\n"
     ]
    },
    {
     "name": "stderr",
     "output_type": "stream",
     "text": [
      " 49%|████▉     | 75418/152810 [1:32:49<1:46:14, 12.14it/s]"
     ]
    },
    {
     "name": "stdout",
     "output_type": "stream",
     "text": [
      "75415\n"
     ]
    },
    {
     "name": "stderr",
     "output_type": "stream",
     "text": [
      " 49%|████▉     | 75429/152810 [1:32:50<1:35:22, 13.52it/s]"
     ]
    },
    {
     "name": "stdout",
     "output_type": "stream",
     "text": [
      "75427\n",
      "75429\n"
     ]
    },
    {
     "name": "stderr",
     "output_type": "stream",
     "text": [
      " 50%|████▉     | 76223/152810 [1:33:41<1:06:34, 19.17it/s]"
     ]
    },
    {
     "name": "stdout",
     "output_type": "stream",
     "text": [
      "76219\n"
     ]
    },
    {
     "name": "stderr",
     "output_type": "stream",
     "text": [
      " 51%|█████     | 78261/152810 [1:36:09<1:19:59, 15.53it/s]"
     ]
    },
    {
     "name": "stdout",
     "output_type": "stream",
     "text": [
      "78257\n",
      "78258\n"
     ]
    },
    {
     "name": "stderr",
     "output_type": "stream",
     "text": [
      " 52%|█████▏    | 79117/152810 [1:37:13<1:14:52, 16.41it/s]"
     ]
    },
    {
     "name": "stdout",
     "output_type": "stream",
     "text": [
      "79115\n"
     ]
    },
    {
     "name": "stderr",
     "output_type": "stream",
     "text": [
      " 52%|█████▏    | 79214/152810 [1:37:20<1:18:52, 15.55it/s]"
     ]
    },
    {
     "name": "stdout",
     "output_type": "stream",
     "text": [
      "79210\n"
     ]
    },
    {
     "name": "stderr",
     "output_type": "stream",
     "text": [
      " 52%|█████▏    | 79274/152810 [1:37:24<1:17:40, 15.78it/s]"
     ]
    },
    {
     "name": "stdout",
     "output_type": "stream",
     "text": [
      "79271\n"
     ]
    },
    {
     "name": "stderr",
     "output_type": "stream",
     "text": [
      " 52%|█████▏    | 79977/152810 [1:38:42<2:07:26,  9.53it/s]"
     ]
    },
    {
     "name": "stdout",
     "output_type": "stream",
     "text": [
      "79974\n",
      "79975\n"
     ]
    },
    {
     "name": "stderr",
     "output_type": "stream",
     "text": [
      " 54%|█████▎    | 81767/152810 [1:40:57<1:26:07, 13.75it/s] "
     ]
    },
    {
     "name": "stdout",
     "output_type": "stream",
     "text": [
      "81764\n"
     ]
    },
    {
     "name": "stderr",
     "output_type": "stream",
     "text": [
      " 54%|█████▍    | 82267/152810 [1:41:34<1:04:42, 18.17it/s]"
     ]
    },
    {
     "name": "stdout",
     "output_type": "stream",
     "text": [
      "82263\n"
     ]
    },
    {
     "name": "stderr",
     "output_type": "stream",
     "text": [
      " 55%|█████▍    | 83559/152810 [1:43:06<1:17:43, 14.85it/s]"
     ]
    },
    {
     "name": "stdout",
     "output_type": "stream",
     "text": [
      "83555\n",
      "83557\n"
     ]
    },
    {
     "name": "stderr",
     "output_type": "stream",
     "text": [
      " 56%|█████▌    | 84821/152810 [1:44:37<56:06, 20.19it/s]  "
     ]
    },
    {
     "name": "stdout",
     "output_type": "stream",
     "text": [
      "84816\n",
      "84817\n",
      "84818\n",
      "84819\n",
      "84820\n"
     ]
    },
    {
     "name": "stderr",
     "output_type": "stream",
     "text": [
      " 56%|█████▌    | 85273/152810 [1:45:11<1:11:43, 15.69it/s]"
     ]
    },
    {
     "name": "stdout",
     "output_type": "stream",
     "text": [
      "85269\n"
     ]
    },
    {
     "name": "stderr",
     "output_type": "stream",
     "text": [
      " 56%|█████▌    | 85494/152810 [1:45:29<1:28:53, 12.62it/s]"
     ]
    },
    {
     "name": "stdout",
     "output_type": "stream",
     "text": [
      "85491\n"
     ]
    },
    {
     "name": "stderr",
     "output_type": "stream",
     "text": [
      " 56%|█████▌    | 85583/152810 [1:45:35<1:14:59, 14.94it/s]"
     ]
    },
    {
     "name": "stdout",
     "output_type": "stream",
     "text": [
      "85579\n",
      "85580\n"
     ]
    },
    {
     "name": "stderr",
     "output_type": "stream",
     "text": [
      " 57%|█████▋    | 87632/152810 [1:48:01<51:57, 20.91it/s]  "
     ]
    },
    {
     "name": "stdout",
     "output_type": "stream",
     "text": [
      "87628\n",
      "87630\n"
     ]
    },
    {
     "name": "stderr",
     "output_type": "stream",
     "text": [
      " 59%|█████▉    | 90046/152810 [1:50:55<53:52, 19.42it/s]  "
     ]
    },
    {
     "name": "stdout",
     "output_type": "stream",
     "text": [
      "90042\n"
     ]
    },
    {
     "name": "stderr",
     "output_type": "stream",
     "text": [
      " 59%|█████▉    | 90051/152810 [1:50:55<59:03, 17.71it/s]  "
     ]
    },
    {
     "name": "stdout",
     "output_type": "stream",
     "text": [
      "90048\n"
     ]
    },
    {
     "name": "stderr",
     "output_type": "stream",
     "text": [
      " 59%|█████▉    | 90055/152810 [1:50:56<1:02:04, 16.85it/s]"
     ]
    },
    {
     "name": "stdout",
     "output_type": "stream",
     "text": [
      "90051\n",
      "90054\n"
     ]
    },
    {
     "name": "stderr",
     "output_type": "stream",
     "text": [
      " 59%|█████▉    | 90852/152810 [1:51:52<48:51, 21.13it/s]  "
     ]
    },
    {
     "name": "stdout",
     "output_type": "stream",
     "text": [
      "90847\n"
     ]
    },
    {
     "name": "stderr",
     "output_type": "stream",
     "text": [
      " 60%|█████▉    | 90992/152810 [1:52:01<45:52, 22.46it/s]  "
     ]
    },
    {
     "name": "stdout",
     "output_type": "stream",
     "text": [
      "90989\n"
     ]
    },
    {
     "name": "stderr",
     "output_type": "stream",
     "text": [
      " 60%|█████▉    | 90998/152810 [1:52:01<50:43, 20.31it/s]"
     ]
    },
    {
     "name": "stdout",
     "output_type": "stream",
     "text": [
      "90996\n"
     ]
    },
    {
     "name": "stderr",
     "output_type": "stream",
     "text": [
      " 60%|█████▉    | 91014/152810 [1:52:02<50:30, 20.39it/s]  "
     ]
    },
    {
     "name": "stdout",
     "output_type": "stream",
     "text": [
      "91011\n"
     ]
    },
    {
     "name": "stderr",
     "output_type": "stream",
     "text": [
      " 60%|█████▉    | 91300/152810 [1:52:20<54:30, 18.81it/s]  "
     ]
    },
    {
     "name": "stdout",
     "output_type": "stream",
     "text": [
      "91296\n"
     ]
    },
    {
     "name": "stderr",
     "output_type": "stream",
     "text": [
      " 60%|██████    | 91929/152810 [1:53:03<1:05:33, 15.48it/s]"
     ]
    },
    {
     "name": "stdout",
     "output_type": "stream",
     "text": [
      "91925\n"
     ]
    },
    {
     "name": "stderr",
     "output_type": "stream",
     "text": [
      " 61%|██████    | 93059/152810 [1:54:27<45:19, 21.98it/s]  "
     ]
    },
    {
     "name": "stdout",
     "output_type": "stream",
     "text": [
      "93053\n"
     ]
    },
    {
     "name": "stderr",
     "output_type": "stream",
     "text": [
      " 61%|██████    | 93068/152810 [1:54:28<42:15, 23.56it/s]"
     ]
    },
    {
     "name": "stdout",
     "output_type": "stream",
     "text": [
      "93063\n"
     ]
    },
    {
     "name": "stderr",
     "output_type": "stream",
     "text": [
      " 62%|██████▏   | 94351/152810 [1:55:59<56:41, 17.19it/s]  "
     ]
    },
    {
     "name": "stdout",
     "output_type": "stream",
     "text": [
      "94349\n"
     ]
    },
    {
     "name": "stderr",
     "output_type": "stream",
     "text": [
      " 62%|██████▏   | 94645/152810 [1:56:21<1:06:03, 14.67it/s]"
     ]
    },
    {
     "name": "stdout",
     "output_type": "stream",
     "text": [
      "94643\n"
     ]
    },
    {
     "name": "stderr",
     "output_type": "stream",
     "text": [
      " 63%|██████▎   | 95628/152810 [1:57:58<57:16, 16.64it/s]  "
     ]
    },
    {
     "name": "stdout",
     "output_type": "stream",
     "text": [
      "95625\n",
      "95626\n"
     ]
    },
    {
     "name": "stderr",
     "output_type": "stream",
     "text": [
      " 64%|██████▍   | 97547/152810 [2:00:14<48:03, 19.17it/s]  "
     ]
    },
    {
     "name": "stdout",
     "output_type": "stream",
     "text": [
      "97544\n"
     ]
    },
    {
     "name": "stderr",
     "output_type": "stream",
     "text": [
      " 64%|██████▍   | 98080/152810 [2:00:52<57:11, 15.95it/s]  "
     ]
    },
    {
     "name": "stdout",
     "output_type": "stream",
     "text": [
      "98076\n",
      "98077\n"
     ]
    },
    {
     "name": "stderr",
     "output_type": "stream",
     "text": [
      " 64%|██████▍   | 98398/152810 [2:01:15<1:08:48, 13.18it/s]"
     ]
    },
    {
     "name": "stdout",
     "output_type": "stream",
     "text": [
      "98395\n"
     ]
    },
    {
     "name": "stderr",
     "output_type": "stream",
     "text": [
      " 65%|██████▍   | 98722/152810 [2:01:37<51:40, 17.44it/s]  "
     ]
    },
    {
     "name": "stdout",
     "output_type": "stream",
     "text": [
      "98719\n"
     ]
    },
    {
     "name": "stderr",
     "output_type": "stream",
     "text": [
      " 65%|██████▍   | 99013/152810 [2:01:58<53:15, 16.83it/s]  "
     ]
    },
    {
     "name": "stdout",
     "output_type": "stream",
     "text": [
      "99009\n"
     ]
    },
    {
     "name": "stderr",
     "output_type": "stream",
     "text": [
      " 65%|██████▌   | 99718/152810 [2:02:50<1:02:19, 14.20it/s]"
     ]
    },
    {
     "name": "stdout",
     "output_type": "stream",
     "text": [
      "99715\n"
     ]
    },
    {
     "name": "stderr",
     "output_type": "stream",
     "text": [
      " 65%|██████▌   | 99980/152810 [2:03:09<1:05:54, 13.36it/s]"
     ]
    },
    {
     "name": "stdout",
     "output_type": "stream",
     "text": [
      "99976\n"
     ]
    },
    {
     "name": "stderr",
     "output_type": "stream",
     "text": [
      " 65%|██████▌   | 100064/152810 [2:03:15<59:09, 14.86it/s]  "
     ]
    },
    {
     "name": "stdout",
     "output_type": "stream",
     "text": [
      "100062\n"
     ]
    },
    {
     "name": "stderr",
     "output_type": "stream",
     "text": [
      " 66%|██████▌   | 100104/152810 [2:03:18<48:41, 18.04it/s]  "
     ]
    },
    {
     "name": "stdout",
     "output_type": "stream",
     "text": [
      "100100\n",
      "100101\n",
      "100104\n"
     ]
    },
    {
     "name": "stderr",
     "output_type": "stream",
     "text": [
      " 66%|██████▌   | 100607/152810 [2:03:56<56:53, 15.29it/s]  "
     ]
    },
    {
     "name": "stdout",
     "output_type": "stream",
     "text": [
      "100603\n",
      "100604\n"
     ]
    },
    {
     "name": "stderr",
     "output_type": "stream",
     "text": [
      " 66%|██████▌   | 100755/152810 [2:04:07<1:07:04, 12.93it/s]"
     ]
    },
    {
     "name": "stdout",
     "output_type": "stream",
     "text": [
      "100752\n"
     ]
    },
    {
     "name": "stderr",
     "output_type": "stream",
     "text": [
      " 67%|██████▋   | 102918/152810 [2:06:42<51:57, 16.01it/s]  "
     ]
    },
    {
     "name": "stdout",
     "output_type": "stream",
     "text": [
      "102915\n"
     ]
    },
    {
     "name": "stderr",
     "output_type": "stream",
     "text": [
      " 67%|██████▋   | 102923/152810 [2:06:42<47:15, 17.59it/s]"
     ]
    },
    {
     "name": "stdout",
     "output_type": "stream",
     "text": [
      "102920\n"
     ]
    },
    {
     "name": "stderr",
     "output_type": "stream",
     "text": [
      " 67%|██████▋   | 102928/152810 [2:06:43<47:49, 17.38it/s]"
     ]
    },
    {
     "name": "stdout",
     "output_type": "stream",
     "text": [
      "102926\n"
     ]
    },
    {
     "name": "stderr",
     "output_type": "stream",
     "text": [
      " 67%|██████▋   | 102992/152810 [2:06:47<1:07:00, 12.39it/s]"
     ]
    },
    {
     "name": "stdout",
     "output_type": "stream",
     "text": [
      "102990\n"
     ]
    },
    {
     "name": "stderr",
     "output_type": "stream",
     "text": [
      " 69%|██████▉   | 105323/152810 [2:09:34<54:12, 14.60it/s]  "
     ]
    },
    {
     "name": "stdout",
     "output_type": "stream",
     "text": [
      "105321\n",
      "105324\n"
     ]
    },
    {
     "name": "stderr",
     "output_type": "stream",
     "text": [
      " 69%|██████▉   | 105969/152810 [2:10:20<1:03:17, 12.33it/s]"
     ]
    },
    {
     "name": "stdout",
     "output_type": "stream",
     "text": [
      "105967\n"
     ]
    },
    {
     "name": "stderr",
     "output_type": "stream",
     "text": [
      " 69%|██████▉   | 106126/152810 [2:10:31<41:11, 18.89it/s]  "
     ]
    },
    {
     "name": "stdout",
     "output_type": "stream",
     "text": [
      "106123\n"
     ]
    },
    {
     "name": "stderr",
     "output_type": "stream",
     "text": [
      " 69%|██████▉   | 106132/152810 [2:10:31<39:52, 19.51it/s]"
     ]
    },
    {
     "name": "stdout",
     "output_type": "stream",
     "text": [
      "106129\n"
     ]
    },
    {
     "name": "stderr",
     "output_type": "stream",
     "text": [
      " 69%|██████▉   | 106142/152810 [2:10:32<44:19, 17.55it/s]"
     ]
    },
    {
     "name": "stdout",
     "output_type": "stream",
     "text": [
      "106140\n"
     ]
    },
    {
     "name": "stderr",
     "output_type": "stream",
     "text": [
      " 70%|██████▉   | 106278/152810 [2:10:40<39:45, 19.50it/s]  "
     ]
    },
    {
     "name": "stdout",
     "output_type": "stream",
     "text": [
      "106276\n"
     ]
    },
    {
     "name": "stderr",
     "output_type": "stream",
     "text": [
      " 70%|██████▉   | 106779/152810 [2:11:13<49:42, 15.43it/s]  "
     ]
    },
    {
     "name": "stdout",
     "output_type": "stream",
     "text": [
      "106776\n",
      "106779\n"
     ]
    },
    {
     "name": "stderr",
     "output_type": "stream",
     "text": [
      " 70%|███████   | 107210/152810 [2:11:43<52:38, 14.44it/s]  "
     ]
    },
    {
     "name": "stdout",
     "output_type": "stream",
     "text": [
      "107206\n"
     ]
    },
    {
     "name": "stderr",
     "output_type": "stream",
     "text": [
      " 70%|███████   | 107356/152810 [2:11:54<53:02, 14.28it/s]  "
     ]
    },
    {
     "name": "stdout",
     "output_type": "stream",
     "text": [
      "107354\n"
     ]
    },
    {
     "name": "stderr",
     "output_type": "stream",
     "text": [
      " 70%|███████   | 107417/152810 [2:11:58<47:28, 15.94it/s]  "
     ]
    },
    {
     "name": "stdout",
     "output_type": "stream",
     "text": [
      "107414\n"
     ]
    },
    {
     "name": "stderr",
     "output_type": "stream",
     "text": [
      " 71%|███████   | 108343/152810 [2:13:08<36:25, 20.35it/s]  "
     ]
    },
    {
     "name": "stdout",
     "output_type": "stream",
     "text": [
      "108338\n"
     ]
    },
    {
     "name": "stderr",
     "output_type": "stream",
     "text": [
      " 71%|███████   | 108349/152810 [2:13:09<33:57, 21.82it/s]"
     ]
    },
    {
     "name": "stdout",
     "output_type": "stream",
     "text": [
      "108345\n"
     ]
    },
    {
     "name": "stderr",
     "output_type": "stream",
     "text": [
      " 71%|███████   | 108362/152810 [2:13:09<38:47, 19.09it/s]"
     ]
    },
    {
     "name": "stdout",
     "output_type": "stream",
     "text": [
      "108359\n"
     ]
    },
    {
     "name": "stderr",
     "output_type": "stream",
     "text": [
      " 71%|███████   | 108823/152810 [2:13:40<46:54, 15.63it/s]  "
     ]
    },
    {
     "name": "stdout",
     "output_type": "stream",
     "text": [
      "108819\n"
     ]
    },
    {
     "name": "stderr",
     "output_type": "stream",
     "text": [
      " 71%|███████   | 108857/152810 [2:13:43<52:53, 13.85it/s]  "
     ]
    },
    {
     "name": "stdout",
     "output_type": "stream",
     "text": [
      "108854\n"
     ]
    },
    {
     "name": "stderr",
     "output_type": "stream",
     "text": [
      " 71%|███████▏  | 109248/152810 [2:14:12<50:45, 14.30it/s]  "
     ]
    },
    {
     "name": "stdout",
     "output_type": "stream",
     "text": [
      "109246\n"
     ]
    },
    {
     "name": "stderr",
     "output_type": "stream",
     "text": [
      " 72%|███████▏  | 109295/152810 [2:14:15<51:49, 13.99it/s]  "
     ]
    },
    {
     "name": "stdout",
     "output_type": "stream",
     "text": [
      "109294\n"
     ]
    },
    {
     "name": "stderr",
     "output_type": "stream",
     "text": [
      " 72%|███████▏  | 109623/152810 [2:14:40<53:03, 13.56it/s]  "
     ]
    },
    {
     "name": "stdout",
     "output_type": "stream",
     "text": [
      "109620\n"
     ]
    },
    {
     "name": "stderr",
     "output_type": "stream",
     "text": [
      " 72%|███████▏  | 109680/152810 [2:14:45<47:12, 15.22it/s]  "
     ]
    },
    {
     "name": "stdout",
     "output_type": "stream",
     "text": [
      "109677\n"
     ]
    },
    {
     "name": "stderr",
     "output_type": "stream",
     "text": [
      " 72%|███████▏  | 109798/152810 [2:14:54<53:01, 13.52it/s]  "
     ]
    },
    {
     "name": "stdout",
     "output_type": "stream",
     "text": [
      "109796\n"
     ]
    },
    {
     "name": "stderr",
     "output_type": "stream",
     "text": [
      " 72%|███████▏  | 109836/152810 [2:14:56<50:26, 14.20it/s]"
     ]
    },
    {
     "name": "stdout",
     "output_type": "stream",
     "text": [
      "109833\n"
     ]
    },
    {
     "name": "stderr",
     "output_type": "stream",
     "text": [
      " 72%|███████▏  | 110631/152810 [2:16:22<46:24, 15.15it/s]  "
     ]
    },
    {
     "name": "stdout",
     "output_type": "stream",
     "text": [
      "110628\n"
     ]
    },
    {
     "name": "stderr",
     "output_type": "stream",
     "text": [
      " 74%|███████▍  | 112828/152810 [2:19:09<36:52, 18.07it/s]   "
     ]
    },
    {
     "name": "stdout",
     "output_type": "stream",
     "text": [
      "112825\n"
     ]
    },
    {
     "name": "stderr",
     "output_type": "stream",
     "text": [
      " 74%|███████▍  | 112956/152810 [2:19:18<39:57, 16.62it/s]"
     ]
    },
    {
     "name": "stdout",
     "output_type": "stream",
     "text": [
      "112951\n"
     ]
    },
    {
     "name": "stderr",
     "output_type": "stream",
     "text": [
      " 75%|███████▍  | 114121/152810 [2:20:43<38:49, 16.61it/s]  "
     ]
    },
    {
     "name": "stdout",
     "output_type": "stream",
     "text": [
      "114118\n"
     ]
    },
    {
     "name": "stderr",
     "output_type": "stream",
     "text": [
      " 75%|███████▍  | 114295/152810 [2:20:56<40:43, 15.76it/s]  "
     ]
    },
    {
     "name": "stdout",
     "output_type": "stream",
     "text": [
      "114291\n"
     ]
    },
    {
     "name": "stderr",
     "output_type": "stream",
     "text": [
      " 75%|███████▌  | 115043/152810 [2:21:50<40:41, 15.47it/s]  "
     ]
    },
    {
     "name": "stdout",
     "output_type": "stream",
     "text": [
      "115041\n"
     ]
    },
    {
     "name": "stderr",
     "output_type": "stream",
     "text": [
      " 75%|███████▌  | 115259/152810 [2:22:06<47:01, 13.31it/s]  "
     ]
    },
    {
     "name": "stdout",
     "output_type": "stream",
     "text": [
      "115256\n"
     ]
    },
    {
     "name": "stderr",
     "output_type": "stream",
     "text": [
      " 76%|███████▌  | 115385/152810 [2:22:15<37:20, 16.70it/s]  "
     ]
    },
    {
     "name": "stdout",
     "output_type": "stream",
     "text": [
      "115382\n"
     ]
    },
    {
     "name": "stderr",
     "output_type": "stream",
     "text": [
      " 76%|███████▌  | 115832/152810 [2:22:49<38:02, 16.20it/s]  "
     ]
    },
    {
     "name": "stdout",
     "output_type": "stream",
     "text": [
      "115828\n"
     ]
    },
    {
     "name": "stderr",
     "output_type": "stream",
     "text": [
      " 77%|███████▋  | 118192/152810 [2:25:40<29:40, 19.45it/s]  "
     ]
    },
    {
     "name": "stdout",
     "output_type": "stream",
     "text": [
      "118190\n"
     ]
    },
    {
     "name": "stderr",
     "output_type": "stream",
     "text": [
      " 77%|███████▋  | 118210/152810 [2:25:41<28:14, 20.42it/s]"
     ]
    },
    {
     "name": "stdout",
     "output_type": "stream",
     "text": [
      "118207\n"
     ]
    },
    {
     "name": "stderr",
     "output_type": "stream",
     "text": [
      " 77%|███████▋  | 118293/152810 [2:25:47<42:16, 13.61it/s]"
     ]
    },
    {
     "name": "stdout",
     "output_type": "stream",
     "text": [
      "118290\n"
     ]
    },
    {
     "name": "stderr",
     "output_type": "stream",
     "text": [
      " 79%|███████▉  | 120609/152810 [2:28:36<32:57, 16.28it/s]  "
     ]
    },
    {
     "name": "stdout",
     "output_type": "stream",
     "text": [
      "120605\n"
     ]
    },
    {
     "name": "stderr",
     "output_type": "stream",
     "text": [
      " 79%|███████▉  | 120620/152810 [2:28:36<33:49, 15.86it/s]"
     ]
    },
    {
     "name": "stdout",
     "output_type": "stream",
     "text": [
      "120617\n"
     ]
    },
    {
     "name": "stderr",
     "output_type": "stream",
     "text": [
      " 79%|███████▉  | 120627/152810 [2:28:37<27:27, 19.53it/s]"
     ]
    },
    {
     "name": "stdout",
     "output_type": "stream",
     "text": [
      "120625\n"
     ]
    },
    {
     "name": "stderr",
     "output_type": "stream",
     "text": [
      " 79%|███████▉  | 121254/152810 [2:29:21<41:39, 12.63it/s]"
     ]
    },
    {
     "name": "stdout",
     "output_type": "stream",
     "text": [
      "121250\n"
     ]
    },
    {
     "name": "stderr",
     "output_type": "stream",
     "text": [
      " 79%|███████▉  | 121281/152810 [2:29:23<39:34, 13.28it/s]"
     ]
    },
    {
     "name": "stdout",
     "output_type": "stream",
     "text": [
      "121279\n"
     ]
    },
    {
     "name": "stderr",
     "output_type": "stream",
     "text": [
      " 79%|███████▉  | 121421/152810 [2:29:32<28:56, 18.08it/s]"
     ]
    },
    {
     "name": "stdout",
     "output_type": "stream",
     "text": [
      "121419\n",
      "121420\n"
     ]
    },
    {
     "name": "stderr",
     "output_type": "stream",
     "text": [
      " 80%|███████▉  | 121688/152810 [2:29:50<32:09, 16.13it/s]"
     ]
    },
    {
     "name": "stdout",
     "output_type": "stream",
     "text": [
      "121685\n"
     ]
    },
    {
     "name": "stderr",
     "output_type": "stream",
     "text": [
      " 80%|███████▉  | 122062/152810 [2:30:15<34:11, 14.99it/s]"
     ]
    },
    {
     "name": "stdout",
     "output_type": "stream",
     "text": [
      "122059\n"
     ]
    },
    {
     "name": "stderr",
     "output_type": "stream",
     "text": [
      " 80%|████████  | 122415/152810 [2:30:39<32:18, 15.68it/s]"
     ]
    },
    {
     "name": "stdout",
     "output_type": "stream",
     "text": [
      "122413\n"
     ]
    },
    {
     "name": "stderr",
     "output_type": "stream",
     "text": [
      " 81%|████████  | 123312/152810 [2:31:45<34:47, 14.13it/s]  "
     ]
    },
    {
     "name": "stdout",
     "output_type": "stream",
     "text": [
      "123309\n"
     ]
    },
    {
     "name": "stderr",
     "output_type": "stream",
     "text": [
      " 81%|████████  | 124104/152810 [2:32:43<31:58, 14.96it/s]  "
     ]
    },
    {
     "name": "stdout",
     "output_type": "stream",
     "text": [
      "124100\n"
     ]
    },
    {
     "name": "stderr",
     "output_type": "stream",
     "text": [
      " 82%|████████▏ | 124661/152810 [2:33:24<31:38, 14.83it/s]"
     ]
    },
    {
     "name": "stdout",
     "output_type": "stream",
     "text": [
      "124658\n"
     ]
    },
    {
     "name": "stderr",
     "output_type": "stream",
     "text": [
      " 82%|████████▏ | 124904/152810 [2:33:43<37:09, 12.52it/s]"
     ]
    },
    {
     "name": "stdout",
     "output_type": "stream",
     "text": [
      "124901\n"
     ]
    },
    {
     "name": "stderr",
     "output_type": "stream",
     "text": [
      " 82%|████████▏ | 124995/152810 [2:33:50<34:51, 13.30it/s]"
     ]
    },
    {
     "name": "stdout",
     "output_type": "stream",
     "text": [
      "124993\n"
     ]
    },
    {
     "name": "stderr",
     "output_type": "stream",
     "text": [
      " 82%|████████▏ | 125207/152810 [2:34:06<30:25, 15.12it/s]"
     ]
    },
    {
     "name": "stdout",
     "output_type": "stream",
     "text": [
      "125205\n"
     ]
    },
    {
     "name": "stderr",
     "output_type": "stream",
     "text": [
      " 83%|████████▎ | 127180/152810 [2:36:54<22:16, 19.18it/s]  "
     ]
    },
    {
     "name": "stdout",
     "output_type": "stream",
     "text": [
      "127178\n"
     ]
    },
    {
     "name": "stderr",
     "output_type": "stream",
     "text": [
      " 84%|████████▍ | 128109/152810 [2:38:00<22:22, 18.40it/s]"
     ]
    },
    {
     "name": "stdout",
     "output_type": "stream",
     "text": [
      "128106\n"
     ]
    },
    {
     "name": "stderr",
     "output_type": "stream",
     "text": [
      " 85%|████████▍ | 129403/152810 [2:39:34<23:16, 16.76it/s]"
     ]
    },
    {
     "name": "stdout",
     "output_type": "stream",
     "text": [
      "129399\n",
      "129400\n"
     ]
    },
    {
     "name": "stderr",
     "output_type": "stream",
     "text": [
      " 85%|████████▍ | 129576/152810 [2:39:47<24:50, 15.59it/s]"
     ]
    },
    {
     "name": "stdout",
     "output_type": "stream",
     "text": [
      "129572\n"
     ]
    },
    {
     "name": "stderr",
     "output_type": "stream",
     "text": [
      " 85%|████████▌ | 130163/152810 [2:40:30<29:24, 12.83it/s]"
     ]
    },
    {
     "name": "stdout",
     "output_type": "stream",
     "text": [
      "130161\n"
     ]
    },
    {
     "name": "stderr",
     "output_type": "stream",
     "text": [
      " 85%|████████▌ | 130324/152810 [2:40:41<23:50, 15.72it/s]"
     ]
    },
    {
     "name": "stdout",
     "output_type": "stream",
     "text": [
      "130321\n"
     ]
    },
    {
     "name": "stderr",
     "output_type": "stream",
     "text": [
      " 85%|████████▌ | 130543/152810 [2:40:58<27:12, 13.64it/s]"
     ]
    },
    {
     "name": "stdout",
     "output_type": "stream",
     "text": [
      "130539\n"
     ]
    },
    {
     "name": "stderr",
     "output_type": "stream",
     "text": [
      " 86%|████████▌ | 130667/152810 [2:41:06<19:23, 19.04it/s]"
     ]
    },
    {
     "name": "stdout",
     "output_type": "stream",
     "text": [
      "130662\n"
     ]
    },
    {
     "name": "stderr",
     "output_type": "stream",
     "text": [
      " 86%|████████▌ | 130696/152810 [2:41:08<25:26, 14.49it/s]"
     ]
    },
    {
     "name": "stdout",
     "output_type": "stream",
     "text": [
      "130693\n"
     ]
    },
    {
     "name": "stderr",
     "output_type": "stream",
     "text": [
      " 86%|████████▌ | 131427/152810 [2:42:03<22:41, 15.70it/s]"
     ]
    },
    {
     "name": "stdout",
     "output_type": "stream",
     "text": [
      "131423\n"
     ]
    },
    {
     "name": "stderr",
     "output_type": "stream",
     "text": [
      " 87%|████████▋ | 133475/152810 [2:44:31<17:21, 18.56it/s]"
     ]
    },
    {
     "name": "stdout",
     "output_type": "stream",
     "text": [
      "133471\n",
      "133472\n"
     ]
    },
    {
     "name": "stderr",
     "output_type": "stream",
     "text": [
      " 87%|████████▋ | 133484/152810 [2:44:32<17:35, 18.31it/s]"
     ]
    },
    {
     "name": "stdout",
     "output_type": "stream",
     "text": [
      "133480\n"
     ]
    },
    {
     "name": "stderr",
     "output_type": "stream",
     "text": [
      " 87%|████████▋ | 133491/152810 [2:44:32<17:27, 18.44it/s]"
     ]
    },
    {
     "name": "stdout",
     "output_type": "stream",
     "text": [
      "133488\n",
      "133489\n"
     ]
    },
    {
     "name": "stderr",
     "output_type": "stream",
     "text": [
      " 89%|████████▉ | 135885/152810 [2:47:24<17:46, 15.88it/s]"
     ]
    },
    {
     "name": "stdout",
     "output_type": "stream",
     "text": [
      "135881\n",
      "135883\n"
     ]
    },
    {
     "name": "stderr",
     "output_type": "stream",
     "text": [
      " 89%|████████▉ | 135893/152810 [2:47:24<17:36, 16.02it/s]"
     ]
    },
    {
     "name": "stdout",
     "output_type": "stream",
     "text": [
      "135890\n",
      "135893\n"
     ]
    },
    {
     "name": "stderr",
     "output_type": "stream",
     "text": [
      " 89%|████████▉ | 135907/152810 [2:47:25<16:55, 16.65it/s]"
     ]
    },
    {
     "name": "stdout",
     "output_type": "stream",
     "text": [
      "135904\n"
     ]
    },
    {
     "name": "stderr",
     "output_type": "stream",
     "text": [
      " 89%|████████▉ | 135914/152810 [2:47:26<14:49, 18.99it/s]"
     ]
    },
    {
     "name": "stdout",
     "output_type": "stream",
     "text": [
      "135911\n"
     ]
    },
    {
     "name": "stderr",
     "output_type": "stream",
     "text": [
      " 89%|████████▉ | 136688/152810 [2:48:20<14:00, 19.18it/s]"
     ]
    },
    {
     "name": "stdout",
     "output_type": "stream",
     "text": [
      "136685\n"
     ]
    },
    {
     "name": "stderr",
     "output_type": "stream",
     "text": [
      " 90%|████████▉ | 136840/152810 [2:48:29<13:26, 19.80it/s]"
     ]
    },
    {
     "name": "stdout",
     "output_type": "stream",
     "text": [
      "136837\n"
     ]
    },
    {
     "name": "stderr",
     "output_type": "stream",
     "text": [
      " 91%|█████████ | 139007/152810 [2:51:00<11:37, 19.79it/s]"
     ]
    },
    {
     "name": "stdout",
     "output_type": "stream",
     "text": [
      "139005\n"
     ]
    },
    {
     "name": "stderr",
     "output_type": "stream",
     "text": [
      " 91%|█████████ | 139384/152810 [2:51:27<13:59, 15.99it/s]"
     ]
    },
    {
     "name": "stdout",
     "output_type": "stream",
     "text": [
      "139381\n"
     ]
    },
    {
     "name": "stderr",
     "output_type": "stream",
     "text": [
      " 92%|█████████▏| 140242/152810 [2:52:31<12:34, 16.67it/s]"
     ]
    },
    {
     "name": "stdout",
     "output_type": "stream",
     "text": [
      "140239\n"
     ]
    },
    {
     "name": "stderr",
     "output_type": "stream",
     "text": [
      " 92%|█████████▏| 140367/152810 [2:52:40<11:40, 17.77it/s]"
     ]
    },
    {
     "name": "stdout",
     "output_type": "stream",
     "text": [
      "140364\n"
     ]
    },
    {
     "name": "stderr",
     "output_type": "stream",
     "text": [
      " 92%|█████████▏| 140489/152810 [2:52:49<14:31, 14.14it/s]"
     ]
    },
    {
     "name": "stdout",
     "output_type": "stream",
     "text": [
      "140486\n"
     ]
    },
    {
     "name": "stderr",
     "output_type": "stream",
     "text": [
      " 92%|█████████▏| 141341/152810 [2:54:17<10:37, 17.98it/s]"
     ]
    },
    {
     "name": "stdout",
     "output_type": "stream",
     "text": [
      "141337\n"
     ]
    },
    {
     "name": "stderr",
     "output_type": "stream",
     "text": [
      " 95%|█████████▍| 144564/152810 [2:58:05<08:40, 15.83it/s]"
     ]
    },
    {
     "name": "stdout",
     "output_type": "stream",
     "text": [
      "144562\n"
     ]
    },
    {
     "name": "stderr",
     "output_type": "stream",
     "text": [
      " 95%|█████████▍| 144682/152810 [2:58:14<09:09, 14.78it/s]"
     ]
    },
    {
     "name": "stdout",
     "output_type": "stream",
     "text": [
      "144680\n"
     ]
    },
    {
     "name": "stderr",
     "output_type": "stream",
     "text": [
      " 95%|█████████▍| 144857/152810 [2:58:27<08:16, 16.01it/s]"
     ]
    },
    {
     "name": "stdout",
     "output_type": "stream",
     "text": [
      "144853\n"
     ]
    },
    {
     "name": "stderr",
     "output_type": "stream",
     "text": [
      " 95%|█████████▌| 145606/152810 [2:59:22<06:23, 18.80it/s]"
     ]
    },
    {
     "name": "stdout",
     "output_type": "stream",
     "text": [
      "145603\n"
     ]
    },
    {
     "name": "stderr",
     "output_type": "stream",
     "text": [
      " 96%|█████████▌| 146706/152810 [3:00:44<06:46, 15.01it/s]"
     ]
    },
    {
     "name": "stdout",
     "output_type": "stream",
     "text": [
      "146703\n"
     ]
    },
    {
     "name": "stderr",
     "output_type": "stream",
     "text": [
      " 96%|█████████▌| 146813/152810 [3:00:51<07:36, 13.15it/s]"
     ]
    },
    {
     "name": "stdout",
     "output_type": "stream",
     "text": [
      "146811\n"
     ]
    },
    {
     "name": "stderr",
     "output_type": "stream",
     "text": [
      " 97%|█████████▋| 148188/152810 [3:02:39<04:38, 16.63it/s]  "
     ]
    },
    {
     "name": "stdout",
     "output_type": "stream",
     "text": [
      "148184\n"
     ]
    },
    {
     "name": "stderr",
     "output_type": "stream",
     "text": [
      " 97%|█████████▋| 148755/152810 [3:03:21<03:19, 20.38it/s]"
     ]
    },
    {
     "name": "stdout",
     "output_type": "stream",
     "text": [
      "148752\n"
     ]
    },
    {
     "name": "stderr",
     "output_type": "stream",
     "text": [
      " 97%|█████████▋| 148760/152810 [3:03:22<03:50, 17.55it/s]"
     ]
    },
    {
     "name": "stdout",
     "output_type": "stream",
     "text": [
      "148758\n"
     ]
    },
    {
     "name": "stderr",
     "output_type": "stream",
     "text": [
      " 99%|█████████▉| 151169/152810 [3:06:14<01:40, 16.35it/s]"
     ]
    },
    {
     "name": "stdout",
     "output_type": "stream",
     "text": [
      "151166\n"
     ]
    },
    {
     "name": "stderr",
     "output_type": "stream",
     "text": [
      " 99%|█████████▉| 151174/152810 [3:06:15<01:40, 16.28it/s]"
     ]
    },
    {
     "name": "stdout",
     "output_type": "stream",
     "text": [
      "151171\n"
     ]
    },
    {
     "name": "stderr",
     "output_type": "stream",
     "text": [
      " 99%|█████████▉| 151181/152810 [3:06:15<01:59, 13.67it/s]"
     ]
    },
    {
     "name": "stdout",
     "output_type": "stream",
     "text": [
      "151178\n"
     ]
    },
    {
     "name": "stderr",
     "output_type": "stream",
     "text": [
      " 99%|█████████▉| 151814/152810 [3:07:00<01:25, 11.67it/s]"
     ]
    },
    {
     "name": "stdout",
     "output_type": "stream",
     "text": [
      "151811\n"
     ]
    },
    {
     "name": "stderr",
     "output_type": "stream",
     "text": [
      " 99%|█████████▉| 151845/152810 [3:07:02<01:02, 15.32it/s]"
     ]
    },
    {
     "name": "stdout",
     "output_type": "stream",
     "text": [
      "151841\n",
      "151842\n"
     ]
    },
    {
     "name": "stderr",
     "output_type": "stream",
     "text": [
      " 99%|█████████▉| 151970/152810 [3:07:11<00:42, 19.68it/s]"
     ]
    },
    {
     "name": "stdout",
     "output_type": "stream",
     "text": [
      "151967\n"
     ]
    },
    {
     "name": "stderr",
     "output_type": "stream",
     "text": [
      " 99%|█████████▉| 151992/152810 [3:07:12<00:47, 17.05it/s]"
     ]
    },
    {
     "name": "stdout",
     "output_type": "stream",
     "text": [
      "151988\n"
     ]
    },
    {
     "name": "stderr",
     "output_type": "stream",
     "text": [
      "100%|█████████▉| 152252/152810 [3:07:27<00:28, 19.85it/s]"
     ]
    },
    {
     "name": "stdout",
     "output_type": "stream",
     "text": [
      "152249\n"
     ]
    },
    {
     "name": "stderr",
     "output_type": "stream",
     "text": [
      "100%|█████████▉| 152596/152810 [3:07:50<00:15, 13.88it/s]"
     ]
    },
    {
     "name": "stdout",
     "output_type": "stream",
     "text": [
      "152593\n"
     ]
    },
    {
     "name": "stderr",
     "output_type": "stream",
     "text": [
      "100%|██████████| 152810/152810 [3:08:05<00:00, 13.54it/s]\n"
     ]
    }
   ],
   "source": [
    "schemas, db_names, tables = get_schemas_from_json('raw_data/tables.json')\n",
    "from tqdm import tqdm\n",
    "data_final = []\n",
    "for idx,item in enumerate(tqdm(session)):\n",
    "    last = []\n",
    "    last_sql = []\n",
    "    last_label = []\n",
    "    last_clabel = []\n",
    "    last_tlabel = []\n",
    "    relate = []\n",
    "    theturn = []\n",
    "    flag = True\n",
    "    for turn in item:\n",
    "        if flag == False:\n",
    "            continue\n",
    "        temp = {}\n",
    "        last.append(turn['question'])\n",
    "        last_sql.append(turn['query'])\n",
    "        relate.append(turn['relate'])\n",
    "        \n",
    "        db_id = turn['db_id']\n",
    "        schema = schemas[db_id]\n",
    "        table = tables[db_id]\n",
    "        schema = Schema(schema, table)\n",
    "        try:\n",
    "            sql_label = get_sql(schema, turn['query'])\n",
    "            col_label = get_label(sql_label,len(table['column_names_original']))\n",
    "            table_label = get_table_label(sql_label,len(table['table_names']))\n",
    "\n",
    "            label = col_label + table_label\n",
    "            last_label.append(label)\n",
    "            last_clabel.append(col_label)\n",
    "            last_tlabel.append(table_label)\n",
    "\n",
    "            temp['col_label'] = last_clabel[::-1][:5]\n",
    "            temp['table_label'] = last_tlabel[::-1][:5]\n",
    "            temp['sql'] = sql_label\n",
    "            temp['db_id'] = turn['db_id']\n",
    "            temp['query'] = turn['query']\n",
    "            temp['question'] = ' [CLS] '.join(last[::-1][:5])\n",
    "            temp['struct'] = []\n",
    "            for sql in last_sql[::-1][:5]:\n",
    "                temp['struct'].append(get_struct_similarity(temp['query'], [sql])[0])\n",
    "\n",
    "            temp['content'] = compute_content(col_label, last_clabel[::-1][:5])\n",
    "            temp['sim'] = [(temp['struct'][i]+temp['content'][i])/2 for i in range(len(temp['content']))]\n",
    "            temp['relate'] = relate[::-1][:5]\n",
    "            assert len(temp['content']) == temp['question'].count('[CLS]')+1\n",
    "            theturn.append(temp)\n",
    "        except:\n",
    "            flag = False\n",
    "            print(idx)\n",
    "    if flag:\n",
    "        data_final.append(theturn)"
   ]
  },
  {
   "cell_type": "code",
   "execution_count": 20,
   "id": "733de929-d311-4bbd-94c5-e02a4f699287",
   "metadata": {},
   "outputs": [],
   "source": [
    "total = 0\n",
    "temp = {}\n",
    "final = []\n",
    "for turn in data_final:\n",
    "    flag = True\n",
    "    for idx,item in enumerate(turn):\n",
    "        if item['question'] in temp.keys() and idx != 0:\n",
    "            flag = False\n",
    "            continue\n",
    "        temp[item['question']] = total\n",
    "        total += 1\n",
    "    if flag:\n",
    "        final.append(turn)"
   ]
  },
  {
   "cell_type": "code",
   "execution_count": 21,
   "id": "e0f6bff1-ceee-4579-ab80-d24b8f8f3df8",
   "metadata": {},
   "outputs": [],
   "source": [
    "import numpy as np \n",
    "for item in final:\n",
    "    temp = []\n",
    "    for iitem in item:\n",
    "        temp.append(iitem['sim'][::-1][:-1] + [0]*(5-len(iitem['sim'][:-1])))\n",
    "    temp = (np.array(temp).T + np.array(temp) + np.eye(5)).tolist()\n",
    "    for idx,iitem in enumerate(item):\n",
    "        iitem['final_sim'] = temp[idx]"
   ]
  },
  {
   "cell_type": "code",
   "execution_count": 28,
   "id": "10663f58-5dbe-43e6-8e74-8db22efdeb67",
   "metadata": {},
   "outputs": [],
   "source": [
    "label_dict = {'':0}\n",
    "for item in final:\n",
    "    for iitem in item:\n",
    "        for col in iitem['col_label'][0]:\n",
    "            if col not in label_dict.keys():\n",
    "                label_dict[col] = 1\n",
    "            else:\n",
    "                label_dict[col] += 1\n",
    "count = 0\n",
    "thelabel = []\n",
    "finallabel = {}\n",
    "convert = {}\n",
    "index = 0\n",
    "label_dict = dict(sorted(label_dict.items(), key=lambda x: x[1], reverse=True))\n",
    "for k,v in label_dict.items():\n",
    "    count += 1\n",
    "    thelabel.append(k)\n",
    "    finallabel[k] = v\n",
    "    convert[k] = index\n",
    "    index += 1\n",
    "    if count == 383:\n",
    "        break\n",
    "theall = []\n",
    "for item in final:\n",
    "    flag = True\n",
    "    for iitem in item:\n",
    "        for col in iitem['col_label'][0]:\n",
    "            if col not in thelabel:\n",
    "                flag = False\n",
    "    if flag:\n",
    "        theall.append(item)"
   ]
  },
  {
   "cell_type": "code",
   "execution_count": 29,
   "id": "487cd284-aec6-4eb7-b96c-be1161e25fc8",
   "metadata": {},
   "outputs": [
    {
     "data": {
      "text/plain": [
       "64609"
      ]
     },
     "execution_count": 29,
     "metadata": {},
     "output_type": "execute_result"
    }
   ],
   "source": [
    "len(theall)"
   ]
  },
  {
   "cell_type": "code",
   "execution_count": 32,
   "id": "cfad40db-ddac-4c65-a173-16855018c087",
   "metadata": {},
   "outputs": [
    {
     "data": {
      "text/plain": [
       "323"
      ]
     },
     "execution_count": 32,
     "metadata": {},
     "output_type": "execute_result"
    }
   ],
   "source": [
    "count"
   ]
  },
  {
   "cell_type": "code",
   "execution_count": 33,
   "id": "848a7014-491c-4c1c-bf35-0bfa0f7ddfc8",
   "metadata": {},
   "outputs": [
    {
     "data": {
      "text/plain": [
       "{'': 0,\n",
       " 'SELECT COUNT': 1,\n",
       " 'GROUP_BY': 2,\n",
       " 'SELECT': 3,\n",
       " 'GROUP_BY ORDER_BY ASC LIMIT': 4,\n",
       " 'GROUP_BY ORDER_BY DESC LIMIT': 5,\n",
       " 'WHERE OR =': 6,\n",
       " 'ORDER_BY COUNT DESC LIMIT': 7,\n",
       " 'WHERE =': 8,\n",
       " 'SELECT WHERE >=': 9,\n",
       " 'SELECT COUNT HAVING COUNT >=': 10,\n",
       " 'SELECT GROUP_BY': 11,\n",
       " 'SELECT GROUP_BY ORDER_BY DESC LIMIT': 12,\n",
       " 'SELECT WHERE =': 13,\n",
       " 'SELECT AVG': 14,\n",
       " 'WHERE >=': 15,\n",
       " 'HAVING COUNT >': 16,\n",
       " 'SELECT COUNT GROUP_BY': 17,\n",
       " 'SELECT SUM GROUP_BY': 18,\n",
       " 'SELECT MIN': 19,\n",
       " 'SELECT MIN SELECT': 20,\n",
       " 'SELECT SELECT COUNT': 21,\n",
       " 'WHERE LIKE': 22,\n",
       " 'SELECT EXCEPT SELECT': 23,\n",
       " 'EXCEPT WHERE =': 24,\n",
       " 'ORDER_BY DESC LIMIT': 25,\n",
       " 'SELECT ORDER_BY DESC': 26,\n",
       " 'SELECT ORDER_BY DESC LIMIT': 27,\n",
       " 'WHERE IN': 28,\n",
       " 'OP_SEL SELECT': 29,\n",
       " 'WHERE !=': 30,\n",
       " 'SELECT ORDER_BY COUNT DESC LIMIT': 31,\n",
       " 'HAVING COUNT >=': 32,\n",
       " 'SELECT COUNT ORDER_BY DESC LIMIT': 33,\n",
       " 'EXCEPT SELECT': 34,\n",
       " 'SELECT COUNT ORDER_BY COUNT DESC LIMIT': 35,\n",
       " 'SELECT SELECT': 36,\n",
       " 'ORDER_BY ASC LIMIT': 37,\n",
       " 'SELECT ORDER_BY ASC LIMIT': 38,\n",
       " 'ORDER_BY DESC': 39,\n",
       " 'SELECT MAX': 40,\n",
       " 'WHERE >': 41,\n",
       " 'WHERE NOT IN': 42,\n",
       " 'ORDER_BY ASC': 43,\n",
       " 'WHERE > OP_SEL SELECT AVG': 44,\n",
       " 'SELECT WHERE > OP_SEL SELECT AVG': 45,\n",
       " 'WHERE = OP_SEL WHERE =': 46,\n",
       " 'SELECT WHERE > OP_SEL SELECT MIN': 47,\n",
       " 'SELECT SUM': 48,\n",
       " 'WHERE != GROUP_BY': 49,\n",
       " 'SELECT WHERE !=': 50,\n",
       " 'SELECT COUNT SELECT': 51,\n",
       " 'WHERE < OP_SEL SELECT MAX': 52,\n",
       " 'SELECT WHERE LIKE': 53,\n",
       " 'SELECT COUNT WHERE LIKE': 54,\n",
       " 'ORDER_BY COUNT ASC': 55,\n",
       " 'WHERE <': 56,\n",
       " 'SELECT WHERE <': 57,\n",
       " 'SELECT AVG WHERE <': 58,\n",
       " 'SELECT COUNT WHERE =': 59,\n",
       " 'WHERE OR = WHERE OR =': 60,\n",
       " 'WHERE <=': 61,\n",
       " 'ORDER_BY COUNT ASC LIMIT': 62,\n",
       " 'ORDER_BY COUNT DESC': 63,\n",
       " 'SELECT ORDER_BY ASC': 64,\n",
       " 'WHERE OR LIKE WHERE OR LIKE': 65,\n",
       " 'SELECT WHERE OR = WHERE OR =': 66,\n",
       " 'HAVING COUNT <': 67,\n",
       " 'OP_SEL ORDER_BY COUNT ASC LIMIT': 68,\n",
       " 'WHERE = OP_SEL SELECT OP_SEL GROUP_BY': 69,\n",
       " 'INTERSECT SELECT': 70,\n",
       " 'SELECT COUNT HAVING COUNT =': 71,\n",
       " 'SELECT WHERE >': 72,\n",
       " 'WHERE = EXCEPT WHERE =': 73,\n",
       " 'SELECT INTERSECT SELECT': 74,\n",
       " 'WHERE = INTERSECT WHERE =': 75,\n",
       " 'SELECT AVG WHERE >': 76,\n",
       " 'OP_SEL HAVING COUNT >': 77,\n",
       " 'WHERE IN OP_SEL SELECT OP_SEL GROUP_BY': 78,\n",
       " 'SELECT WHERE NOT IN OP_SEL SELECT': 79,\n",
       " 'OP_SEL WHERE =': 80,\n",
       " 'WHERE NOT IN OP_SEL SELECT': 81,\n",
       " 'WHERE < OP_SEL SELECT AVG': 82,\n",
       " 'WHERE = ORDER_BY DESC LIMIT': 83,\n",
       " 'WHERE >= ORDER_BY ASC LIMIT': 84,\n",
       " 'WHERE = ORDER_BY ASC LIMIT': 85,\n",
       " 'WHERE = WHERE =': 86,\n",
       " 'OP_SEL GROUP_BY': 87,\n",
       " 'SELECT ORDER_BY COUNT ASC LIMIT': 88,\n",
       " 'WHERE IN OP_SEL SELECT': 89,\n",
       " 'OP_SEL WHERE !=': 90,\n",
       " 'OP_SEL EXCEPT SELECT': 91,\n",
       " 'OP_SEL EXCEPT WHERE =': 92,\n",
       " 'WHERE > ORDER_BY DESC': 93,\n",
       " 'SELECT HAVING COUNT >': 94,\n",
       " 'WHERE < INTERSECT WHERE >': 95,\n",
       " 'HAVING =': 96,\n",
       " 'SELECT SELECT GROUP_BY': 97,\n",
       " 'SELECT WHERE = INTERSECT WHERE =': 98,\n",
       " 'WHERE = GROUP_BY': 99,\n",
       " 'SELECT MIN GROUP_BY': 100,\n",
       " 'OP_SEL SELECT OP_SEL GROUP_BY': 101,\n",
       " 'WHERE BETWEEN': 102,\n",
       " 'WHERE OR <': 103,\n",
       " 'SELECT COUNT ORDER_BY COUNT ASC LIMIT': 104,\n",
       " 'SELECT UNION SELECT': 105,\n",
       " 'WHERE = UNION WHERE =': 106,\n",
       " 'OP_SEL SELECT OP_SEL INTERSECT SELECT': 107,\n",
       " 'OP_SEL WHERE = OP_SEL INTERSECT WHERE =': 108,\n",
       " 'WHERE > ORDER_BY DESC LIMIT': 109,\n",
       " 'SELECT COUNT HAVING COUNT >': 110,\n",
       " 'SELECT MAX GROUP_BY': 111,\n",
       " 'WHERE > ORDER_BY ASC LIMIT': 112,\n",
       " 'UNION WHERE >': 113,\n",
       " 'UNION SELECT': 114,\n",
       " 'SELECT WHERE NOT IN': 115,\n",
       " 'SELECT SUM ORDER_BY SUM ASC LIMIT': 116,\n",
       " 'ORDER_BY SUM ASC LIMIT': 117,\n",
       " 'WHERE OR = WHERE OR = WHERE OR =': 118,\n",
       " 'SELECT SELECT ORDER_BY ASC LIMIT': 119,\n",
       " 'HAVING AVG >': 120,\n",
       " 'SELECT GROUP_BY ORDER_BY ASC': 121,\n",
       " 'GROUP_BY ORDER_BY ASC': 122,\n",
       " 'ORDER_BY SUM DESC LIMIT': 123,\n",
       " 'UNION EXCEPT SELECT': 124,\n",
       " 'SELECT MIN SELECT MAX': 125,\n",
       " 'WHERE = WHERE LIKE': 126,\n",
       " 'HAVING COUNT =': 127,\n",
       " 'WHERE > OP_SEL SELECT MIN': 128,\n",
       " 'SELECT WHERE = OP_SEL WHERE =': 129,\n",
       " 'SELECT WHERE IN': 130,\n",
       " 'SELECT SUM ORDER_BY ASC LIMIT': 131,\n",
       " 'SELECT SUM ORDER_BY DESC LIMIT': 132,\n",
       " 'OP_SEL SELECT OP_SEL EXCEPT SELECT': 133,\n",
       " 'SELECT AVG SELECT MAX': 134,\n",
       " 'SELECT MAX SELECT': 135,\n",
       " 'WHERE NOT IN ORDER_BY ASC LIMIT': 136,\n",
       " 'SELECT MIN ORDER_BY DESC LIMIT': 137,\n",
       " 'WHERE = OP_SEL SELECT MAX': 138,\n",
       " 'WHERE < OP_SEL SELECT MIN': 139,\n",
       " 'SELECT WHERE IN OP_SEL SELECT': 140,\n",
       " 'WHERE < ORDER_BY DESC LIMIT': 141,\n",
       " 'WHERE > INTERSECT WHERE <': 142,\n",
       " 'SELECT SUM SELECT': 143,\n",
       " 'WHERE > OP_SEL SELECT MAX': 144,\n",
       " 'SELECT MAX ORDER_BY ASC LIMIT': 145,\n",
       " 'WHERE OR > WHERE OR <': 146,\n",
       " 'HAVING SUM >': 147,\n",
       " 'WHERE = WHERE !=': 148,\n",
       " 'HAVING COUNT BETWEEN': 149,\n",
       " 'SELECT SELECT ORDER_BY DESC LIMIT': 150,\n",
       " 'SELECT OP_SEL WHERE =': 151,\n",
       " 'WHERE > OP_SEL SELECT': 152,\n",
       " 'SELECT WHERE <=': 153,\n",
       " 'WHERE OR >': 154,\n",
       " 'SELECT AVG ORDER_BY ASC LIMIT': 155,\n",
       " 'SELECT WHERE LIKE GROUP_BY': 156,\n",
       " 'SELECT GROUP_BY ORDER_BY ASC LIMIT': 157,\n",
       " 'SELECT COUNT OP_SEL WHERE =': 158,\n",
       " 'SELECT AVG SELECT': 159,\n",
       " 'WHERE = OP_SEL SELECT MIN': 160,\n",
       " 'SELECT WHERE = OP_SEL SELECT MIN': 161,\n",
       " 'SELECT WHERE = GROUP_BY': 162,\n",
       " 'SELECT MAX SELECT MIN': 163,\n",
       " 'OP_SEL WHERE >': 164,\n",
       " 'WHERE OR < WHERE OR >': 165,\n",
       " 'WHERE < UNION WHERE >': 166,\n",
       " 'SELECT WHERE = UNION WHERE =': 167,\n",
       " 'HAVING AVG <': 168,\n",
       " 'SELECT AVG HAVING AVG <': 169,\n",
       " 'WHERE > WHERE <': 170,\n",
       " 'SELECT MIN SELECT MAX SELECT AVG': 171,\n",
       " 'SELECT SELECT WHERE =': 172,\n",
       " 'WHERE >= ORDER_BY DESC LIMIT': 173,\n",
       " 'SELECT COUNT WHERE !=': 174,\n",
       " 'SELECT WHERE = ORDER_BY DESC LIMIT': 175,\n",
       " 'OP_SEL ORDER_BY DESC LIMIT': 176,\n",
       " 'SELECT AVG ORDER_BY DESC LIMIT': 177,\n",
       " 'SELECT WHERE OR <': 178,\n",
       " 'SELECT WHERE OR =': 179,\n",
       " 'SELECT AVG SELECT MIN SELECT MAX': 180,\n",
       " 'SELECT SELECT COUNT WHERE =': 181,\n",
       " 'SELECT COUNT ORDER_BY ASC LIMIT': 182,\n",
       " 'SELECT COUNT WHERE <': 183,\n",
       " 'WHERE != ORDER_BY ASC LIMIT': 184,\n",
       " 'SELECT AVG GROUP_BY': 185,\n",
       " 'SELECT COUNT SELECT SELECT': 186,\n",
       " 'SELECT COUNT EXCEPT SELECT': 187,\n",
       " 'SELECT HAVING COUNT =': 188,\n",
       " 'SELECT MIN ORDER_BY ASC LIMIT': 189,\n",
       " 'UNION HAVING COUNT >': 190,\n",
       " 'WHERE >= OP_SEL SELECT AVG': 191,\n",
       " 'OP_SEL HAVING MAX >': 192,\n",
       " 'UNION WHERE =': 193,\n",
       " 'SELECT AVG WHERE =': 194,\n",
       " 'OP_SEL WHERE OR = OP_SEL WHERE OR =': 195,\n",
       " 'OP_SEL ORDER_BY COUNT DESC LIMIT': 196,\n",
       " 'ORDER_BY AVG DESC LIMIT': 197,\n",
       " 'WHERE = ORDER_BY ASC': 198,\n",
       " 'GROUP_BY ORDER_BY COUNT ASC LIMIT': 199,\n",
       " 'SELECT GROUP_BY ORDER_BY COUNT ASC LIMIT': 200,\n",
       " 'INTERSECT HAVING COUNT <': 201,\n",
       " 'INTERSECT SELECT INTERSECT GROUP_BY': 202,\n",
       " 'SELECT WHERE = OP_SEL SELECT OP_SEL GROUP_BY': 203,\n",
       " 'HAVING SUM >=': 204,\n",
       " 'SELECT WHERE != GROUP_BY': 205,\n",
       " 'HAVING COUNT <=': 206,\n",
       " 'EXCEPT HAVING COUNT >': 207,\n",
       " 'EXCEPT SELECT EXCEPT GROUP_BY': 208,\n",
       " 'WHERE != OP_SEL SELECT OP_SEL GROUP_BY': 209,\n",
       " 'WHERE <= ORDER_BY DESC LIMIT': 210,\n",
       " 'SELECT MAX SELECT MIN SELECT AVG': 211,\n",
       " 'SELECT AVG SELECT MIN': 212,\n",
       " 'WHERE NOT IN ORDER_BY DESC LIMIT': 213,\n",
       " 'SELECT WHERE >= ORDER_BY ASC': 214,\n",
       " 'SELECT AVG ORDER_BY DESC': 215,\n",
       " 'SELECT MIN SELECT AVG SELECT MAX': 216,\n",
       " 'SELECT COUNT ORDER_BY COUNT ASC': 217,\n",
       " 'SELECT HAVING COUNT >=': 218,\n",
       " 'WHERE OR >=': 219,\n",
       " 'SELECT WHERE = WHERE LIKE': 220,\n",
       " 'WHERE = ORDER_BY DESC': 221,\n",
       " 'WHERE = OP_SEL SELECT OP_SEL ORDER_BY ASC LIMIT': 222,\n",
       " 'ORDER_BY AVG ASC LIMIT': 223,\n",
       " 'OP_SEL WHERE = WHERE !=': 224,\n",
       " 'SELECT COUNT INTERSECT SELECT': 225,\n",
       " 'WHERE >= WHERE <=': 226,\n",
       " 'SELECT COUNT ORDER_BY COUNT DESC': 227,\n",
       " 'EXCEPT WHERE OR = EXCEPT WHERE OR =': 228,\n",
       " 'INTERSECT WHERE =': 229,\n",
       " 'OP_SEL WHERE LIKE': 230,\n",
       " 'WHERE != INTERSECT WHERE =': 231,\n",
       " 'SELECT COUNT OP_SEL ORDER_BY COUNT DESC LIMIT': 232,\n",
       " 'SELECT ORDER_BY SUM DESC LIMIT': 233,\n",
       " 'SELECT WHERE OR >': 234,\n",
       " 'SELECT SUM ORDER_BY SUM DESC LIMIT': 235,\n",
       " 'SELECT WHERE > INTERSECT WHERE <': 236,\n",
       " 'SELECT WHERE BETWEEN': 237,\n",
       " 'SELECT MAX SELECT AVG': 238,\n",
       " 'SELECT WHERE < OP_SEL SELECT AVG': 239,\n",
       " 'OP_SEL WHERE <': 240,\n",
       " 'SELECT COUNT ORDER_BY ASC': 241,\n",
       " 'OP_SEL SELECT OP_SEL SELECT': 242,\n",
       " 'OP_SEL WHERE = OP_SEL WHERE =': 243,\n",
       " 'SELECT SUM SELECT AVG': 244,\n",
       " 'WHERE != WHERE !=': 245,\n",
       " 'HAVING MAX >': 246,\n",
       " 'EXCEPT WHERE >': 247,\n",
       " 'WHERE OR > WHERE OR >': 248,\n",
       " 'EXCEPT WHERE >=': 249,\n",
       " 'WHERE = OP_SEL SELECT': 250,\n",
       " 'SELECT GROUP_BY HAVING COUNT BETWEEN': 251,\n",
       " 'SELECT SELECT WHERE >': 252,\n",
       " 'SELECT WHERE > OP_SEL SELECT MAX': 253,\n",
       " 'OP_SEL WHERE > OP_SEL WHERE <': 254,\n",
       " 'INTERSECT WHERE <': 255,\n",
       " 'SELECT COUNT OP_SEL HAVING COUNT >=': 256,\n",
       " 'SELECT SELECT MIN': 257,\n",
       " 'SELECT WHERE != ORDER_BY ASC LIMIT': 258,\n",
       " 'SELECT HAVING =': 259,\n",
       " 'SELECT WHERE >= WHERE <=': 260,\n",
       " 'SELECT WHERE = WHERE =': 261,\n",
       " 'OP_SEL WHERE = OP_SEL SELECT MAX': 262,\n",
       " 'SELECT OP_SEL WHERE = WHERE =': 263,\n",
       " 'SELECT WHERE = OP_SEL SELECT MAX': 264,\n",
       " 'OP_SEL WHERE = WHERE =': 265,\n",
       " 'SELECT OP_SEL WHERE IN WHERE IN': 266,\n",
       " 'OP_SEL WHERE IN WHERE IN': 267,\n",
       " 'SELECT COUNT WHERE IN OP_SEL SELECT': 268,\n",
       " 'OP_SEL WHERE IN': 269,\n",
       " 'OP_SEL WHERE = OP_SEL SELECT MIN': 270,\n",
       " 'OP_SEL WHERE = OP_SEL SELECT MAX OP_SEL WHERE = OP_SEL SELECT MAX': 271,\n",
       " 'OP_SEL WHERE = OP_SEL SELECT MIN OP_SEL WHERE = OP_SEL SELECT MIN': 272,\n",
       " 'WHERE < WHERE >': 273,\n",
       " 'WHERE > ORDER_BY ASC': 274,\n",
       " 'SELECT WHERE OR > WHERE OR <': 275,\n",
       " 'SELECT WHERE OR < WHERE OR >': 276,\n",
       " 'SELECT EXCEPT WHERE =': 277,\n",
       " 'OP_SEL EXCEPT WHERE >': 278,\n",
       " 'WHERE NOT LIKE': 279,\n",
       " 'SELECT WHERE < OP_SEL SELECT MIN': 280,\n",
       " 'WHERE < ORDER_BY ASC LIMIT': 281,\n",
       " 'OP_SEL ORDER_BY ASC LIMIT': 282,\n",
       " 'SELECT ORDER_BY AVG DESC LIMIT': 283,\n",
       " 'WHERE != ORDER_BY DESC LIMIT': 284,\n",
       " 'SELECT COUNT OP_SEL SELECT OP_SEL HAVING COUNT >': 285,\n",
       " 'INTERSECT WHERE >': 286,\n",
       " 'GROUP_BY HAVING =': 287,\n",
       " 'SELECT GROUP_BY HAVING =': 288,\n",
       " 'WHERE OR LIKE WHERE OR LIKE WHERE OR LIKE': 289,\n",
       " 'SELECT WHERE NOT LIKE': 290,\n",
       " 'SELECT SELECT COUNT GROUP_BY': 291,\n",
       " 'HAVING AVG >=': 292,\n",
       " 'INTERSECT GROUP_BY': 293,\n",
       " 'SELECT COUNT WHERE NOT IN': 294,\n",
       " 'ORDER_BY AVG DESC': 295,\n",
       " 'SELECT AVG ORDER_BY AVG DESC LIMIT': 296,\n",
       " 'SELECT WHERE = WHERE !=': 297,\n",
       " 'SELECT WHERE IN OP_SEL SELECT OP_SEL GROUP_BY': 298,\n",
       " 'SELECT AVG ORDER_BY ASC': 299,\n",
       " 'INTERSECT HAVING COUNT >=': 300,\n",
       " 'ORDER_BY AVG ASC': 301,\n",
       " 'SELECT WHERE = ORDER_BY ASC LIMIT': 302,\n",
       " 'SELECT ORDER_BY SUM ASC LIMIT': 303,\n",
       " 'SELECT WHERE OR >=': 304,\n",
       " 'SELECT GROUP_BY ORDER_BY DESC': 305,\n",
       " 'GROUP_BY ORDER_BY COUNT DESC LIMIT': 306,\n",
       " 'SELECT WHERE > WHERE <': 307,\n",
       " 'SELECT MAX ORDER_BY DESC LIMIT': 308,\n",
       " 'OP_SEL HAVING COUNT >=': 309,\n",
       " 'WHERE IN OP_SEL SELECT OP_SEL WHERE LIKE': 310,\n",
       " 'SELECT GROUP_BY ORDER_BY COUNT DESC LIMIT': 311,\n",
       " 'SELECT COUNT OP_SEL HAVING COUNT >': 312,\n",
       " 'WHERE LIKE GROUP_BY': 313,\n",
       " 'ORDER_BY SUM DESC': 314,\n",
       " 'HAVING OR SUM >': 315,\n",
       " 'WHERE = OP_SEL SELECT OP_SEL ORDER_BY DESC LIMIT': 316,\n",
       " 'SELECT AVG SELECT MAX SELECT MIN': 317,\n",
       " 'EXCEPT WHERE <': 318,\n",
       " 'SELECT SELECT MAX': 319,\n",
       " 'WHERE OR !=': 320,\n",
       " 'EXCEPT GROUP_BY': 321,\n",
       " 'WHERE IN OP_SEL SELECT MAX': 322}"
      ]
     },
     "execution_count": 33,
     "metadata": {},
     "output_type": "execute_result"
    }
   ],
   "source": [
    "convert"
   ]
  },
  {
   "cell_type": "code",
   "execution_count": 41,
   "id": "c3850ae5-ee45-478a-b821-80eba9ce1b58",
   "metadata": {},
   "outputs": [],
   "source": [
    "def get_position_ids(ex, shuffle=True):\n",
    "    # cluster columns with their corresponding table and randomly shuffle tables and columns\n",
    "    # [CLS] q1 q2 ... [SEP] * t1 c1 c2 c3 t2 c4 c5 ... [SEP]\n",
    "    db, table_word_len, column_word_len = ex['db'], ex['table_word_len'], ex['column_word_len']\n",
    "    table_num, column_num = len(db['table_names']), len(db['column_names'])\n",
    "    question_position_id = list(range(len(ex['question_id'])))\n",
    "    start = len(question_position_id)\n",
    "    table_position_id, column_position_id = [None] * table_num, [None] * column_num\n",
    "    column_position_id[0] = list(range(start, start + column_word_len[0]))\n",
    "    start += column_word_len[0] # special symbol * first\n",
    "    table_idxs = list(range(table_num))\n",
    "    if shuffle:\n",
    "        random.shuffle(table_idxs)\n",
    "    for idx in table_idxs:\n",
    "        col_idxs = db['table2columns'][idx]\n",
    "        table_position_id[idx] = list(range(start, start + table_word_len[idx]))\n",
    "        start += table_word_len[idx]\n",
    "        if shuffle:\n",
    "            random.shuffle(col_idxs)\n",
    "        for col_id in col_idxs:\n",
    "            column_position_id[col_id] = list(range(start, start + column_word_len[col_id]))\n",
    "            start += column_word_len[col_id]\n",
    "    position_id = question_position_id + list(chain.from_iterable(table_position_id)) + \\\n",
    "        list(chain.from_iterable(column_position_id)) + [start]\n",
    "    assert len(position_id) == len(ex['input_id'])\n",
    "    return position_id"
   ]
  },
  {
   "cell_type": "code",
   "execution_count": 43,
   "id": "e9feefbb-347f-4cdb-ac21-8721620c3c40",
   "metadata": {},
   "outputs": [
    {
     "data": {
      "application/vnd.jupyter.widget-view+json": {
       "model_id": "940bc4c73ce04839831a94d07ab75560",
       "version_major": 2,
       "version_minor": 0
      },
      "text/plain": [
       "Downloading:   0%|          | 0.00/27.0 [00:00<?, ?B/s]"
      ]
     },
     "metadata": {},
     "output_type": "display_data"
    },
    {
     "data": {
      "application/vnd.jupyter.widget-view+json": {
       "model_id": "45325b3c1138428191fe44cdc55ff0b0",
       "version_major": 2,
       "version_minor": 0
      },
      "text/plain": [
       "Downloading:   0%|          | 0.00/668 [00:00<?, ?B/s]"
      ]
     },
     "metadata": {},
     "output_type": "display_data"
    },
    {
     "data": {
      "application/vnd.jupyter.widget-view+json": {
       "model_id": "fdf2985bcf8342b697eebb14d149c12e",
       "version_major": 2,
       "version_minor": 0
      },
      "text/plain": [
       "Downloading:   0%|          | 0.00/226k [00:00<?, ?B/s]"
      ]
     },
     "metadata": {},
     "output_type": "display_data"
    },
    {
     "data": {
      "application/vnd.jupyter.widget-view+json": {
       "model_id": "c59ba717b0a7445f8e0996051d2869c7",
       "version_major": 2,
       "version_minor": 0
      },
      "text/plain": [
       "Downloading:   0%|          | 0.00/455k [00:00<?, ?B/s]"
      ]
     },
     "metadata": {},
     "output_type": "display_data"
    }
   ],
   "source": [
    "from transformers import AutoTokenizer\n",
    "from itertools import chain\n",
    "import numpy as np\n",
    "t = AutoTokenizer.from_pretrained(\"google/electra-large-discriminator\")\n",
    "def get_input(item, db, t):\n",
    "    s = re.sub('([.,!?()])', r' \\1 ', item['question'])\n",
    "    s = re.sub('\\s{2,}', ' ', s)\n",
    "    input_token = '[CLS]'\n",
    "    question = [q.lower() for q in s.split()]\n",
    "    question = ['[CLS]' if q == '[cls]' else q for q in question]\n",
    "    sim_label = item['final_sim']\n",
    "    sim_mask = [True if item != -1 else False for item in item['final_sim']]\n",
    "    rtd_label = []\n",
    "    ssf_label = []\n",
    "    context_label = []\n",
    "    question_id = [t.cls_token_id] # map token to id\n",
    "    question_mask_plm = []\n",
    "    question_subword_len = []\n",
    "    input_token += ' ' + ' '.join(question)\n",
    "    for w in question:\n",
    "        toks = t.convert_tokens_to_ids(t.tokenize(w))\n",
    "        question_id.extend(toks)\n",
    "        question_subword_len.append(len(toks))\n",
    "    question_mask_plm = [0] + [1] * (len(question_id) - 1) + [0]\n",
    "\n",
    "\n",
    "    question_id.append(t.sep_token_id)\n",
    "    input_token += ' [SEP]'\n",
    "    rtd_label = [0]*len(question_id)\n",
    "\n",
    "    table = [['table'] + t.lower().split() for t in db['table_names']]\n",
    "    table_id, table_mask_plm, table_subword_len = [], [], []\n",
    "    table_word_len = []\n",
    "    for tab_ids, s in enumerate(table):\n",
    "        l = 0\n",
    "        for w in s:\n",
    "            input_token += ' ' + w\n",
    "            toks = t.convert_tokens_to_ids(t.tokenize(w))\n",
    "            table_id.extend(toks)\n",
    "            table_subword_len.append(len(toks))\n",
    "            l += len(toks)\n",
    "        if len(item['table_label'][0][tab_ids]) == 0:\n",
    "            rtd_label.extend([1]*l)\n",
    "        else:\n",
    "            rtd_label.extend([0]*l)\n",
    "        table_word_len.append(l)\n",
    "    table_mask_plm = [1] * len(table_id)\n",
    "\n",
    "    if len(item['col_label']) == 1:\n",
    "        column = [[db['column_types'][idx].lower()] + c.lower().split() for idx, (_, c, _) in enumerate(db['column_names'])]\n",
    "    else:\n",
    "        column = [[db['column_types'][idx].lower()] + c.lower().split() + item['col_label'][1][idx].split() for idx, (_, c, _) in enumerate(db['column_names'])]\n",
    "    col_index = 0\n",
    "    column_id, column_mask_plm, column_subword_len = [], [], []\n",
    "    column_word_len = []\n",
    "    for col_ids, s in enumerate(column):\n",
    "        l = 0\n",
    "        ssf_label.append(convert[item['col_label'][0][col_ids]])\n",
    "        for w in s:\n",
    "            input_token += ' ' + w\n",
    "            toks = t.convert_tokens_to_ids(t.tokenize(w))\n",
    "            column_id.extend(toks)\n",
    "            column_subword_len.append(len(toks))\n",
    "            l += len(toks)\n",
    "        if len(item['col_label'][0][col_ids]) == 0:\n",
    "            rtd_label.extend([1]*l)\n",
    "        else:\n",
    "            rtd_label.extend([0]*l)\n",
    "        column_word_len.append(l)\n",
    "\n",
    "    rtd_label.append(0)\n",
    "    column_mask_plm = [1] * len(column_id) + [0]\n",
    "    \n",
    "    input_token += ' [SEP]'\n",
    "    column_id.append(t.sep_token_id)\n",
    "    \n",
    "    question_mask_plm = question_mask_plm + [0] * (len(table_id) + len(column_id))\n",
    "    table_mask_plm = [0] * len(question_id) + table_mask_plm + [0] * len(column_id)\n",
    "    column_mask_plm = [0] * (len(question_id) + len(table_id)) + column_mask_plm\n",
    "\n",
    "    input_id = question_id + table_id + column_id\n",
    "    \n",
    "   \n",
    "    \n",
    "    assert len(input_id) == len(question_mask_plm) == len(table_mask_plm) == len(column_mask_plm) == len(rtd_label)\n",
    "    assert len(ssf_label) == len(item['col_label'][0])\n",
    "    assert len(sim_label) == 5\n",
    "    result = {}\n",
    "    result['db_id'] = item['db_id']\n",
    "    result['input_id'] = input_id\n",
    "    result['query'] = item['query']\n",
    "    result['sql'] = item['sql']\n",
    "    result['content'] = item['content']\n",
    "    result['db_id'] = item['db_id']\n",
    "    result['sim_label'] = sim_label\n",
    "    result['sim_mask'] = sim_mask\n",
    "    result['ssf_label'] = ssf_label\n",
    "    result['question_mask_plm'] = question_mask_plm\n",
    "    result['rtd_label'] = rtd_label\n",
    "    temp = {}\n",
    "    temp['db'] = db\n",
    "    temp['table_word_len'] = table_word_len\n",
    "    temp['column_word_len'] = column_word_len\n",
    "    temp['question_id'] = question_id\n",
    "    temp['input_id'] = input_id\n",
    "\n",
    "    result['column_mask_plm'] = column_mask_plm\n",
    "    result['column_word_len'] = column_word_len\n",
    "    result['position_ids'] = get_position_ids(temp, shuffle=True)\n",
    "    result['input_token'] = input_token\n",
    "    result['db_id'] = item['db_id']\n",
    "    return result"
   ]
  },
  {
   "cell_type": "code",
   "execution_count": 44,
   "id": "62454a48-5466-4b01-8f12-e53426730f6a",
   "metadata": {},
   "outputs": [
    {
     "name": "stderr",
     "output_type": "stream",
     "text": [
      "100%|██████████| 64609/64609 [46:16<00:00, 23.27it/s]  \n"
     ]
    }
   ],
   "source": [
    "from tqdm import tqdm\n",
    "alltask = []\n",
    "for item in tqdm(theall):\n",
    "    temp = []\n",
    "    for iitem in item:\n",
    "        one = get_input(iitem,db[iitem['db_id']],t)\n",
    "        temp.append(one)\n",
    "    alltask.append(temp)"
   ]
  },
  {
   "cell_type": "code",
   "execution_count": 45,
   "id": "3ac34bd6-3406-40e7-bf39-86b4c487ee9a",
   "metadata": {},
   "outputs": [],
   "source": [
    "from tqdm import tqdm\n",
    "with open('final_data/electra_all.json','w') as f:\n",
    "    json.dump(alltask,f)"
   ]
  },
  {
   "cell_type": "code",
   "execution_count": 46,
   "id": "09b40693-82c3-493c-b832-84ab92cd1511",
   "metadata": {},
   "outputs": [],
   "source": [
    "final = []\n",
    "for item in alltask:\n",
    "    flag = True\n",
    "    for iitem in item:\n",
    "        if len(iitem['input_id']) > 256:\n",
    "            flag = False\n",
    "    if flag:\n",
    "        final.append(item)"
   ]
  },
  {
   "cell_type": "code",
   "execution_count": 47,
   "id": "9e195b5c-37dd-4209-99f2-817199382e2d",
   "metadata": {},
   "outputs": [],
   "source": [
    "db_data = {}\n",
    "for item in final:\n",
    "    if item[0]['db_id'] not in db_data.keys():\n",
    "        db_data[item[0]['db_id']] = [item]\n",
    "    else:\n",
    "        db_data[item[0]['db_id']].append(item)\n",
    "keys = []\n",
    "for key in db_data.keys():\n",
    "    keys.append(key)\n",
    "weight = [len(v) for k, v in db_data.items()]"
   ]
  },
  {
   "cell_type": "code",
   "execution_count": 48,
   "id": "2e1305eb-ef3e-4d25-bf11-eaa945ca4d1e",
   "metadata": {},
   "outputs": [],
   "source": [
    "final = []\n",
    "for i in range(12000):\n",
    "    thekeys = random.choices(keys,weights=weight,k=8)\n",
    "    batch = []\n",
    "    for key in thekeys:\n",
    "        temp = random.sample(db_data[key],1)[0]\n",
    "        batch.append(temp)\n",
    "    for item in batch:\n",
    "        for iitem in item:\n",
    "            final.append(iitem)"
   ]
  },
  {
   "cell_type": "code",
   "execution_count": 49,
   "id": "80deab34-f146-41bd-9b81-4aa628077d01",
   "metadata": {},
   "outputs": [
    {
     "name": "stderr",
     "output_type": "stream",
     "text": [
      "100%|██████████| 480000/480000 [00:45<00:00, 10586.93it/s]\n"
     ]
    }
   ],
   "source": [
    "from tqdm import tqdm\n",
    "with open('final_data/alltask_final.txt','w') as f:\n",
    "    for item in tqdm(final):\n",
    "        f.write(json.dumps(item))\n",
    "        f.write('\\n')"
   ]
  },
  {
   "cell_type": "code",
   "execution_count": 50,
   "id": "ce05b67e-0965-43d8-8c46-462f4e28bfa5",
   "metadata": {},
   "outputs": [
    {
     "data": {
      "text/plain": [
       "480000"
      ]
     },
     "execution_count": 50,
     "metadata": {},
     "output_type": "execute_result"
    }
   ],
   "source": [
    "len(final)"
   ]
  },
  {
   "cell_type": "code",
   "execution_count": null,
   "id": "1a971a48-6644-4c59-8812-ae9b35c20a7a",
   "metadata": {},
   "outputs": [],
   "source": []
  }
 ],
 "metadata": {
  "kernelspec": {
   "display_name": "Python 3",
   "language": "python",
   "name": "python3"
  },
  "language_info": {
   "codemirror_mode": {
    "name": "ipython",
    "version": 3
   },
   "file_extension": ".py",
   "mimetype": "text/x-python",
   "name": "python",
   "nbconvert_exporter": "python",
   "pygments_lexer": "ipython3",
   "version": "3.6.12"
  }
 },
 "nbformat": 4,
 "nbformat_minor": 5
}
